{
 "cells": [
  {
   "cell_type": "markdown",
   "id": "30731b2b",
   "metadata": {
    "papermill": {
     "duration": 0.066723,
     "end_time": "2022-06-09T16:08:40.634598",
     "exception": false,
     "start_time": "2022-06-09T16:08:40.567875",
     "status": "completed"
    },
    "tags": []
   },
   "source": [
    "**IMPORT STATEMENTS**"
   ]
  },
  {
   "cell_type": "code",
   "execution_count": 1,
   "id": "7a58862f",
   "metadata": {
    "execution": {
     "iopub.execute_input": "2022-06-09T16:08:40.766213Z",
     "iopub.status.busy": "2022-06-09T16:08:40.764714Z",
     "iopub.status.idle": "2022-06-09T16:08:42.499515Z",
     "shell.execute_reply": "2022-06-09T16:08:42.498536Z",
     "shell.execute_reply.started": "2022-06-09T15:31:57.495456Z"
    },
    "papermill": {
     "duration": 1.800939,
     "end_time": "2022-06-09T16:08:42.499672",
     "exception": false,
     "start_time": "2022-06-09T16:08:40.698733",
     "status": "completed"
    },
    "tags": []
   },
   "outputs": [],
   "source": [
    "import time\n",
    "import pickle\n",
    "import numpy as np\n",
    "import shutil\n",
    "import os\n",
    "from tqdm import tqdm, tqdm_notebook\n",
    "from pathlib import Path\n",
    "\n",
    "import torch\n",
    "from torch.utils.data import Dataset, DataLoader\n",
    "import torch.nn as nn\n",
    "import torchaudio\n",
    "import copy\n",
    "\n",
    "from matplotlib import colors, pyplot as plt\n",
    "%matplotlib inline\n",
    "\n",
    "import warnings\n",
    "warnings.filterwarnings(action='ignore', category=DeprecationWarning)\n",
    "\n",
    "from IPython.display import clear_output"
   ]
  },
  {
   "cell_type": "code",
   "execution_count": 2,
   "id": "97719873",
   "metadata": {
    "execution": {
     "iopub.execute_input": "2022-06-09T16:08:42.687155Z",
     "iopub.status.busy": "2022-06-09T16:08:42.686189Z",
     "iopub.status.idle": "2022-06-09T16:08:42.690303Z",
     "shell.execute_reply": "2022-06-09T16:08:42.690982Z",
     "shell.execute_reply.started": "2022-06-09T15:32:00.476688Z"
    },
    "papermill": {
     "duration": 0.127488,
     "end_time": "2022-06-09T16:08:42.691204",
     "exception": false,
     "start_time": "2022-06-09T16:08:42.563716",
     "status": "completed"
    },
    "tags": []
   },
   "outputs": [
    {
     "name": "stdout",
     "output_type": "stream",
     "text": [
      "Training on GPU.\n"
     ]
    }
   ],
   "source": [
    "train_on_gpu=torch.cuda.is_available()\n",
    "\n",
    "if(train_on_gpu):\n",
    "    print('Training on GPU.')\n",
    "else:\n",
    "    print('No GPU available, training on CPU.')\n",
    "       \n",
    "DEVICE = torch.device('cuda' if train_on_gpu else 'cpu')\n"
   ]
  },
  {
   "cell_type": "markdown",
   "id": "714c6665",
   "metadata": {
    "papermill": {
     "duration": 0.063014,
     "end_time": "2022-06-09T16:08:42.818865",
     "exception": false,
     "start_time": "2022-06-09T16:08:42.755851",
     "status": "completed"
    },
    "tags": []
   },
   "source": [
    "**PREPROCESSING**"
   ]
  },
  {
   "cell_type": "code",
   "execution_count": 3,
   "id": "fd1d55eb",
   "metadata": {
    "execution": {
     "iopub.execute_input": "2022-06-09T16:08:42.957939Z",
     "iopub.status.busy": "2022-06-09T16:08:42.957036Z",
     "iopub.status.idle": "2022-06-09T16:08:42.959396Z",
     "shell.execute_reply": "2022-06-09T16:08:42.958693Z",
     "shell.execute_reply.started": "2022-06-09T15:32:07.304008Z"
    },
    "papermill": {
     "duration": 0.077951,
     "end_time": "2022-06-09T16:08:42.959589",
     "exception": false,
     "start_time": "2022-06-09T16:08:42.881638",
     "status": "completed"
    },
    "tags": []
   },
   "outputs": [],
   "source": [
    "SAMPLE_RATE = 48000\n",
    "N_FFT = SAMPLE_RATE * 64 // 1000 + 4\n",
    "HOP_LENGTH = SAMPLE_RATE * 16 // 1000 + 4"
   ]
  },
  {
   "cell_type": "code",
   "execution_count": 4,
   "id": "5bc00971",
   "metadata": {
    "execution": {
     "iopub.execute_input": "2022-06-09T16:08:43.197323Z",
     "iopub.status.busy": "2022-06-09T16:08:43.196510Z",
     "iopub.status.idle": "2022-06-09T16:08:43.204462Z",
     "shell.execute_reply": "2022-06-09T16:08:43.205211Z",
     "shell.execute_reply.started": "2022-06-09T15:32:10.152692Z"
    },
    "papermill": {
     "duration": 0.122367,
     "end_time": "2022-06-09T16:08:43.205397",
     "exception": false,
     "start_time": "2022-06-09T16:08:43.083030",
     "status": "completed"
    },
    "tags": []
   },
   "outputs": [],
   "source": [
    "class SpeechDataset(Dataset):\n",
    "\n",
    "    def __init__(self, noisy_files, clean_files, n_fft=64, hop_length=16):\n",
    "        super().__init__()\n",
    "        # list of files\n",
    "        self.noisy_files = sorted(noisy_files)\n",
    "        self.clean_files = sorted(clean_files)\n",
    "        \n",
    "        # stft parameters\n",
    "        self.n_fft = n_fft\n",
    "        self.hop_length = hop_length\n",
    "        \n",
    "        self.len_ = len(self.noisy_files)\n",
    "        \n",
    "        # fixed len\n",
    "        self.max_len = 165000\n",
    "\n",
    "    \n",
    "    def __len__(self):\n",
    "        return self.len_\n",
    "      \n",
    "    def load_sample(self, file):\n",
    "        waveform, _ = torchaudio.load(file)\n",
    "        return waveform\n",
    "  \n",
    "    def __getitem__(self, index):\n",
    "        # load to tensors and normalization\n",
    "        x_clean = self.load_sample(self.clean_files[index])\n",
    "        x_noisy = self.load_sample(self.noisy_files[index])\n",
    "        \n",
    "        # padding/cutting\n",
    "        x_clean = self._prepare_sample(x_clean)\n",
    "        x_noisy = self._prepare_sample(x_noisy)\n",
    "        \n",
    "        # Short-time Fourier transform\n",
    "        x_noisy_stft = torch.stft(input=x_noisy, n_fft=self.n_fft, \n",
    "                                  hop_length=self.hop_length, normalized=True)\n",
    "        x_clean_stft = torch.stft(input=x_clean, n_fft=self.n_fft, \n",
    "                                  hop_length=self.hop_length, normalized=True)\n",
    "        \n",
    "        return x_noisy_stft, x_clean_stft\n",
    "        \n",
    "    def _prepare_sample(self, waveform):\n",
    "        waveform = waveform.numpy()\n",
    "        current_len = waveform.shape[1]\n",
    "        \n",
    "        output = np.zeros((1, self.max_len), dtype='float32')\n",
    "        output[0, -current_len:] = waveform[0, :self.max_len]\n",
    "        output = torch.from_numpy(output)\n",
    "        \n",
    "        return output"
   ]
  },
  {
   "cell_type": "code",
   "execution_count": 5,
   "id": "9a3187c4",
   "metadata": {
    "execution": {
     "iopub.execute_input": "2022-06-09T16:08:43.423793Z",
     "iopub.status.busy": "2022-06-09T16:08:43.422975Z",
     "iopub.status.idle": "2022-06-09T16:08:43.429982Z",
     "shell.execute_reply": "2022-06-09T16:08:43.430653Z",
     "shell.execute_reply.started": "2022-05-28T14:05:40.303153Z"
    },
    "papermill": {
     "duration": 0.123141,
     "end_time": "2022-06-09T16:08:43.430875",
     "exception": false,
     "start_time": "2022-06-09T16:08:43.307734",
     "status": "completed"
    },
    "tags": []
   },
   "outputs": [
    {
     "data": {
      "text/plain": [
       "\"TRAIN_NOISY_DIR = Path('../input/speechenhancement-dataset/dataset/dataset/noisy_trainset_28spk_wav/noisy_trainset_28spk_wav')\\nTRAIN_CLEAN_DIR = Path('../input/speechenhancement-dataset/dataset/dataset/clean_trainset_28spk_wav/clean_trainset_28spk_wav')\\n\\nTEST_NOISY_DIR = Path('../input/speechenhancement-dataset/dataset/dataset/noisy_testset_wav/noisy_testset_wav')\\nTEST_CLEAN_DIR = Path('../input/speechenhancement-dataset/dataset/dataset/clean_testset_wav/clean_testset_wav')\""
      ]
     },
     "execution_count": 5,
     "metadata": {},
     "output_type": "execute_result"
    }
   ],
   "source": [
    "\"\"\"TRAIN_NOISY_DIR = Path('../input/speechenhancement-dataset/dataset/dataset/noisy_trainset_28spk_wav/noisy_trainset_28spk_wav')\n",
    "TRAIN_CLEAN_DIR = Path('../input/speechenhancement-dataset/dataset/dataset/clean_trainset_28spk_wav/clean_trainset_28spk_wav')\n",
    "\n",
    "TEST_NOISY_DIR = Path('../input/speechenhancement-dataset/dataset/dataset/noisy_testset_wav/noisy_testset_wav')\n",
    "TEST_CLEAN_DIR = Path('../input/speechenhancement-dataset/dataset/dataset/clean_testset_wav/clean_testset_wav')\"\"\""
   ]
  },
  {
   "cell_type": "code",
   "execution_count": 6,
   "id": "ac79e057",
   "metadata": {
    "execution": {
     "iopub.execute_input": "2022-06-09T16:08:43.607295Z",
     "iopub.status.busy": "2022-06-09T16:08:43.606639Z",
     "iopub.status.idle": "2022-06-09T16:08:43.609337Z",
     "shell.execute_reply": "2022-06-09T16:08:43.609738Z",
     "shell.execute_reply.started": "2022-05-28T14:05:40.357297Z"
    },
    "papermill": {
     "duration": 0.076117,
     "end_time": "2022-06-09T16:08:43.609869",
     "exception": false,
     "start_time": "2022-06-09T16:08:43.533752",
     "status": "completed"
    },
    "tags": []
   },
   "outputs": [
    {
     "data": {
      "text/plain": [
       "'\"train_noisy_files = sorted(list(TRAIN_NOISY_DIR.rglob(\\'*.wav\\')))\\ntrain_clean_files = sorted(list(TRAIN_CLEAN_DIR.rglob(\\'*.wav\\')))\\n\\ntest_noisy_files = sorted(list(TEST_NOISY_DIR.rglob(\\'*.wav\\')))\\ntest_clean_files = sorted(list(TEST_CLEAN_DIR.rglob(\\'*.wav\\')))'"
      ]
     },
     "execution_count": 6,
     "metadata": {},
     "output_type": "execute_result"
    }
   ],
   "source": [
    "\"\"\"\"train_noisy_files = sorted(list(TRAIN_NOISY_DIR.rglob('*.wav')))\n",
    "train_clean_files = sorted(list(TRAIN_CLEAN_DIR.rglob('*.wav')))\n",
    "\n",
    "test_noisy_files = sorted(list(TEST_NOISY_DIR.rglob('*.wav')))\n",
    "test_clean_files = sorted(list(TEST_CLEAN_DIR.rglob('*.wav')))\"\"\""
   ]
  },
  {
   "cell_type": "code",
   "execution_count": 7,
   "id": "44dd6f5f",
   "metadata": {
    "execution": {
     "iopub.execute_input": "2022-06-09T16:08:43.741176Z",
     "iopub.status.busy": "2022-06-09T16:08:43.740477Z",
     "iopub.status.idle": "2022-06-09T16:08:43.743071Z",
     "shell.execute_reply": "2022-06-09T16:08:43.743483Z",
     "shell.execute_reply.started": "2022-05-28T14:05:40.410438Z"
    },
    "papermill": {
     "duration": 0.070028,
     "end_time": "2022-06-09T16:08:43.743599",
     "exception": false,
     "start_time": "2022-06-09T16:08:43.673571",
     "status": "completed"
    },
    "tags": []
   },
   "outputs": [
    {
     "data": {
      "text/plain": [
       "'\"train_count = 100\\ntest_count = 25\\n\\ntrain_noisy_files = torch.utils.data.random_split(train_noisy_files, [train_count, len(train_noisy_files)-train_count])[0]\\ntrain_clean_files = torch.utils.data.random_split(train_clean_files, [train_count, len(train_clean_files)-train_count])[0]\\ntest_noisy_files = torch.utils.data.random_split(test_noisy_files, [test_count, len(test_noisy_files)-test_count])[0]\\ntest_clean_files = torch.utils.data.random_split(test_clean_files, [test_count, len(test_clean_files)-test_count])[0]\\n\\nprint(len(train_noisy_files))\\nprint(len(test_noisy_files))\\nprint(len(train_clean_files))\\nprint(len(test_clean_files))'"
      ]
     },
     "execution_count": 7,
     "metadata": {},
     "output_type": "execute_result"
    }
   ],
   "source": [
    "\"\"\"\"train_count = 100\n",
    "test_count = 25\n",
    "\n",
    "train_noisy_files = torch.utils.data.random_split(train_noisy_files, [train_count, len(train_noisy_files)-train_count])[0]\n",
    "train_clean_files = torch.utils.data.random_split(train_clean_files, [train_count, len(train_clean_files)-train_count])[0]\n",
    "test_noisy_files = torch.utils.data.random_split(test_noisy_files, [test_count, len(test_noisy_files)-test_count])[0]\n",
    "test_clean_files = torch.utils.data.random_split(test_clean_files, [test_count, len(test_clean_files)-test_count])[0]\n",
    "\n",
    "print(len(train_noisy_files))\n",
    "print(len(test_noisy_files))\n",
    "print(len(train_clean_files))\n",
    "print(len(test_clean_files))\"\"\""
   ]
  },
  {
   "cell_type": "code",
   "execution_count": 8,
   "id": "fb30801c",
   "metadata": {
    "execution": {
     "iopub.execute_input": "2022-06-09T16:08:43.875601Z",
     "iopub.status.busy": "2022-06-09T16:08:43.874951Z",
     "iopub.status.idle": "2022-06-09T16:08:43.877987Z",
     "shell.execute_reply": "2022-06-09T16:08:43.877554Z",
     "shell.execute_reply.started": "2022-05-28T14:05:40.465245Z"
    },
    "papermill": {
     "duration": 0.07119,
     "end_time": "2022-06-09T16:08:43.878100",
     "exception": false,
     "start_time": "2022-06-09T16:08:43.806910",
     "status": "completed"
    },
    "tags": []
   },
   "outputs": [
    {
     "data": {
      "text/plain": [
       "'test_dataset = SpeechDataset(test_noisy_files, test_clean_files, N_FFT, HOP_LENGTH)\\ntrain_dataset = SpeechDataset(train_noisy_files, train_clean_files, N_FFT, HOP_LENGTH)'"
      ]
     },
     "execution_count": 8,
     "metadata": {},
     "output_type": "execute_result"
    }
   ],
   "source": [
    "\"\"\"test_dataset = SpeechDataset(test_noisy_files, test_clean_files, N_FFT, HOP_LENGTH)\n",
    "train_dataset = SpeechDataset(train_noisy_files, train_clean_files, N_FFT, HOP_LENGTH)\"\"\""
   ]
  },
  {
   "cell_type": "code",
   "execution_count": 9,
   "id": "b8aaee83",
   "metadata": {
    "execution": {
     "iopub.execute_input": "2022-06-09T16:08:44.010925Z",
     "iopub.status.busy": "2022-06-09T16:08:44.010222Z",
     "iopub.status.idle": "2022-06-09T16:08:44.013191Z",
     "shell.execute_reply": "2022-06-09T16:08:44.013654Z",
     "shell.execute_reply.started": "2022-05-28T14:05:40.517899Z"
    },
    "papermill": {
     "duration": 0.070919,
     "end_time": "2022-06-09T16:08:44.013776",
     "exception": false,
     "start_time": "2022-06-09T16:08:43.942857",
     "status": "completed"
    },
    "tags": []
   },
   "outputs": [
    {
     "data": {
      "text/plain": [
       "'test_loader = DataLoader(test_dataset, batch_size=2, shuffle=True)\\ntrain_loader = DataLoader(train_dataset, batch_size=2, shuffle=True)'"
      ]
     },
     "execution_count": 9,
     "metadata": {},
     "output_type": "execute_result"
    }
   ],
   "source": [
    "\"\"\"test_loader = DataLoader(test_dataset, batch_size=2, shuffle=True)\n",
    "train_loader = DataLoader(train_dataset, batch_size=2, shuffle=True)\"\"\""
   ]
  },
  {
   "cell_type": "markdown",
   "id": "a32a6348",
   "metadata": {
    "papermill": {
     "duration": 0.064361,
     "end_time": "2022-06-09T16:08:44.143436",
     "exception": false,
     "start_time": "2022-06-09T16:08:44.079075",
     "status": "completed"
    },
    "tags": []
   },
   "source": [
    "**MODEL DEFINITION**"
   ]
  },
  {
   "cell_type": "code",
   "execution_count": 10,
   "id": "a2a22896",
   "metadata": {
    "execution": {
     "iopub.execute_input": "2022-06-09T16:08:44.283308Z",
     "iopub.status.busy": "2022-06-09T16:08:44.282402Z",
     "iopub.status.idle": "2022-06-09T16:08:44.284382Z",
     "shell.execute_reply": "2022-06-09T16:08:44.284752Z",
     "shell.execute_reply.started": "2022-06-09T15:32:17.002694Z"
    },
    "papermill": {
     "duration": 0.076298,
     "end_time": "2022-06-09T16:08:44.284895",
     "exception": false,
     "start_time": "2022-06-09T16:08:44.208597",
     "status": "completed"
    },
    "tags": []
   },
   "outputs": [],
   "source": [
    "class CConv2d(nn.Module):\n",
    "\n",
    "    def __init__(self, in_channels, out_channels, kernel_size, stride, padding=0):\n",
    "        super().__init__()\n",
    "        \n",
    "        self.in_channels = in_channels\n",
    "        self.out_channels = out_channels\n",
    "        self.kernel_size = kernel_size\n",
    "        self.padding = padding\n",
    "        self.stride = stride\n",
    "        \n",
    "        self.real_conv = nn.Conv2d(in_channels=self.in_channels, \n",
    "                                   out_channels=self.out_channels, \n",
    "                                   kernel_size=self.kernel_size, \n",
    "                                   padding=self.padding, \n",
    "                                   stride=self.stride)\n",
    "        \n",
    "        self.im_conv = nn.Conv2d(in_channels=self.in_channels, \n",
    "                                 out_channels=self.out_channels, \n",
    "                                 kernel_size=self.kernel_size, \n",
    "                                 padding=self.padding, \n",
    "                                 stride=self.stride)\n",
    "        \n",
    "        # Glorot initialization.\n",
    "        nn.init.xavier_uniform_(self.real_conv.weight)\n",
    "        nn.init.xavier_uniform_(self.im_conv.weight)\n",
    "        \n",
    "        \n",
    "    def forward(self, x):\n",
    "        x_real = x[..., 0]\n",
    "        x_im = x[..., 1]\n",
    "        \n",
    "        c_real = self.real_conv(x_real) - self.im_conv(x_im)\n",
    "        c_im = self.im_conv(x_real) + self.real_conv(x_im)\n",
    "        \n",
    "        output = torch.stack([c_real, c_im], dim=-1)\n",
    "        return output"
   ]
  },
  {
   "cell_type": "code",
   "execution_count": 11,
   "id": "0455124b",
   "metadata": {
    "execution": {
     "iopub.execute_input": "2022-06-09T16:08:44.428679Z",
     "iopub.status.busy": "2022-06-09T16:08:44.427742Z",
     "iopub.status.idle": "2022-06-09T16:08:44.429442Z",
     "shell.execute_reply": "2022-06-09T16:08:44.429984Z",
     "shell.execute_reply.started": "2022-06-09T15:32:20.662599Z"
    },
    "papermill": {
     "duration": 0.080144,
     "end_time": "2022-06-09T16:08:44.430162",
     "exception": false,
     "start_time": "2022-06-09T16:08:44.350018",
     "status": "completed"
    },
    "tags": []
   },
   "outputs": [],
   "source": [
    "class CConvTranspose2d(nn.Module):\n",
    "\n",
    "    def __init__(self, in_channels, out_channels, kernel_size, stride, output_padding=0, padding=0):\n",
    "        super().__init__()\n",
    "        \n",
    "        self.in_channels = in_channels\n",
    "\n",
    "        self.out_channels = out_channels\n",
    "        self.kernel_size = kernel_size\n",
    "        self.output_padding = output_padding\n",
    "        self.padding = padding\n",
    "        self.stride = stride\n",
    "        \n",
    "        self.real_convt = nn.ConvTranspose2d(in_channels=self.in_channels, \n",
    "                                            out_channels=self.out_channels, \n",
    "                                            kernel_size=self.kernel_size, \n",
    "                                            output_padding=self.output_padding,\n",
    "                                            padding=self.padding,\n",
    "                                            stride=self.stride)\n",
    "        \n",
    "        self.im_convt = nn.ConvTranspose2d(in_channels=self.in_channels, \n",
    "                                            out_channels=self.out_channels, \n",
    "                                            kernel_size=self.kernel_size, \n",
    "                                            output_padding=self.output_padding, \n",
    "                                            padding=self.padding,\n",
    "                                            stride=self.stride)\n",
    "        \n",
    "        \n",
    "        # Glorot initialization.\n",
    "        nn.init.xavier_uniform_(self.real_convt.weight)\n",
    "        nn.init.xavier_uniform_(self.im_convt.weight)\n",
    "        \n",
    "        \n",
    "    def forward(self, x):\n",
    "        x_real = x[..., 0]\n",
    "        x_im = x[..., 1]\n",
    "        \n",
    "        ct_real = self.real_convt(x_real) - self.im_convt(x_im)\n",
    "        ct_im = self.im_convt(x_real) + self.real_convt(x_im)\n",
    "        \n",
    "        output = torch.stack([ct_real, ct_im], dim=-1)\n",
    "        return output"
   ]
  },
  {
   "cell_type": "code",
   "execution_count": 12,
   "id": "98aafa56",
   "metadata": {
    "execution": {
     "iopub.execute_input": "2022-06-09T16:08:44.570490Z",
     "iopub.status.busy": "2022-06-09T16:08:44.569493Z",
     "iopub.status.idle": "2022-06-09T16:08:44.571536Z",
     "shell.execute_reply": "2022-06-09T16:08:44.572017Z",
     "shell.execute_reply.started": "2022-06-09T15:32:24.455361Z"
    },
    "papermill": {
     "duration": 0.077076,
     "end_time": "2022-06-09T16:08:44.572172",
     "exception": false,
     "start_time": "2022-06-09T16:08:44.495096",
     "status": "completed"
    },
    "tags": []
   },
   "outputs": [],
   "source": [
    "class CBatchNorm2d(nn.Module):\n",
    "\n",
    "    def __init__(self, num_features, eps=1e-05, momentum=0.1, affine=True, track_running_stats=True):\n",
    "        super().__init__()\n",
    "        \n",
    "        self.num_features = num_features\n",
    "        self.eps = eps\n",
    "        self.momentum = momentum\n",
    "        self.affine = affine\n",
    "        self.track_running_stats = track_running_stats\n",
    "        \n",
    "        self.real_b = nn.BatchNorm2d(num_features=self.num_features, eps=self.eps, momentum=self.momentum,\n",
    "                                      affine=self.affine, track_running_stats=self.track_running_stats)\n",
    "        self.im_b = nn.BatchNorm2d(num_features=self.num_features, eps=self.eps, momentum=self.momentum,\n",
    "                                    affine=self.affine, track_running_stats=self.track_running_stats) \n",
    "        \n",
    "    def forward(self, x):\n",
    "        x_real = x[..., 0]\n",
    "        x_im = x[..., 1]\n",
    "        \n",
    "        n_real = self.real_b(x_real)\n",
    "        n_im = self.im_b(x_im)  \n",
    "        \n",
    "        output = torch.stack([n_real, n_im], dim=-1)\n",
    "        return output"
   ]
  },
  {
   "cell_type": "code",
   "execution_count": 13,
   "id": "3d1978bf",
   "metadata": {
    "execution": {
     "iopub.execute_input": "2022-06-09T16:08:44.711518Z",
     "iopub.status.busy": "2022-06-09T16:08:44.710518Z",
     "iopub.status.idle": "2022-06-09T16:08:44.712474Z",
     "shell.execute_reply": "2022-06-09T16:08:44.712916Z",
     "shell.execute_reply.started": "2022-06-09T15:32:27.615698Z"
    },
    "papermill": {
     "duration": 0.076979,
     "end_time": "2022-06-09T16:08:44.713073",
     "exception": false,
     "start_time": "2022-06-09T16:08:44.636094",
     "status": "completed"
    },
    "tags": []
   },
   "outputs": [],
   "source": [
    "class Encoder(nn.Module):\n",
    "\n",
    "    def __init__(self, filter_size=(7,5), stride_size=(2,2), in_channels=1, out_channels=45, padding=(0,0)):\n",
    "        super().__init__()\n",
    "        \n",
    "        self.filter_size = filter_size\n",
    "        self.stride_size = stride_size\n",
    "        self.in_channels = in_channels\n",
    "        self.out_channels = out_channels\n",
    "        self.padding = padding\n",
    "\n",
    "        self.cconv = CConv2d(in_channels=self.in_channels, out_channels=self.out_channels, \n",
    "                             kernel_size=self.filter_size, stride=self.stride_size, padding=self.padding)\n",
    "        \n",
    "        self.cbn = CBatchNorm2d(num_features=self.out_channels) \n",
    "        \n",
    "        self.leaky_relu = nn.LeakyReLU()\n",
    "            \n",
    "    def forward(self, x):\n",
    "        \n",
    "        conved = self.cconv(x)\n",
    "        normed = self.cbn(conved)\n",
    "        acted = self.leaky_relu(normed)\n",
    "        \n",
    "        return acted"
   ]
  },
  {
   "cell_type": "code",
   "execution_count": 14,
   "id": "d795149e",
   "metadata": {
    "execution": {
     "iopub.execute_input": "2022-06-09T16:08:44.854352Z",
     "iopub.status.busy": "2022-06-09T16:08:44.853803Z",
     "iopub.status.idle": "2022-06-09T16:08:44.857465Z",
     "shell.execute_reply": "2022-06-09T16:08:44.856949Z",
     "shell.execute_reply.started": "2022-06-09T15:32:30.293986Z"
    },
    "papermill": {
     "duration": 0.080327,
     "end_time": "2022-06-09T16:08:44.857573",
     "exception": false,
     "start_time": "2022-06-09T16:08:44.777246",
     "status": "completed"
    },
    "tags": []
   },
   "outputs": [],
   "source": [
    "class Decoder(nn.Module):\n",
    "\n",
    "    def __init__(self, filter_size=(7,5), stride_size=(2,2), in_channels=1, out_channels=45,\n",
    "                 output_padding=(0,0), padding=(0,0), last_layer=False):\n",
    "        super().__init__()\n",
    "        \n",
    "        self.filter_size = filter_size\n",
    "        self.stride_size = stride_size\n",
    "        self.in_channels = in_channels\n",
    "        self.out_channels = out_channels\n",
    "        self.output_padding = output_padding\n",
    "        self.padding = padding\n",
    "        \n",
    "        self.last_layer = last_layer\n",
    "        \n",
    "        self.cconvt = CConvTranspose2d(in_channels=self.in_channels, out_channels=self.out_channels, \n",
    "                             kernel_size=self.filter_size, stride=self.stride_size, output_padding=self.output_padding, padding=self.padding)\n",
    "        \n",
    "        self.cbn = CBatchNorm2d(num_features=self.out_channels) \n",
    "        \n",
    "        self.leaky_relu = nn.LeakyReLU()\n",
    "            \n",
    "    def forward(self, x):\n",
    "        \n",
    "        conved = self.cconvt(x)\n",
    "        \n",
    "        if not self.last_layer:\n",
    "            normed = self.cbn(conved)\n",
    "            output = self.leaky_relu(normed)\n",
    "        else:\n",
    "            m_phase = conved / (torch.abs(conved) + 1e-8)\n",
    "            m_mag = torch.tanh(torch.abs(conved))\n",
    "            output = m_phase * m_mag\n",
    "            \n",
    "        return output"
   ]
  },
  {
   "cell_type": "markdown",
   "id": "53db22dc",
   "metadata": {
    "papermill": {
     "duration": 0.064312,
     "end_time": "2022-06-09T16:08:44.986517",
     "exception": false,
     "start_time": "2022-06-09T16:08:44.922205",
     "status": "completed"
    },
    "tags": []
   },
   "source": [
    "**MODEL DECLARATION**"
   ]
  },
  {
   "cell_type": "code",
   "execution_count": 15,
   "id": "70242134",
   "metadata": {
    "execution": {
     "iopub.execute_input": "2022-06-09T16:08:45.133540Z",
     "iopub.status.busy": "2022-06-09T16:08:45.132719Z",
     "iopub.status.idle": "2022-06-09T16:08:45.134528Z",
     "shell.execute_reply": "2022-06-09T16:08:45.135203Z",
     "shell.execute_reply.started": "2022-06-09T15:32:35.001515Z"
    },
    "papermill": {
     "duration": 0.083435,
     "end_time": "2022-06-09T16:08:45.135336",
     "exception": false,
     "start_time": "2022-06-09T16:08:45.051901",
     "status": "completed"
    },
    "tags": []
   },
   "outputs": [],
   "source": [
    "class Custom(nn.Module):\n",
    "\n",
    "    def __init__(self, n_fft=64, hop_length=16):\n",
    "        super().__init__()\n",
    "        \n",
    "        # for istft\n",
    "        self.n_fft = n_fft\n",
    "        self.hop_length = hop_length\n",
    "        \n",
    "        # downsampling/encoding\n",
    "        self.downsample0 = Encoder(filter_size=(7,5), stride_size=(2,2), in_channels=1, out_channels=45)\n",
    "        self.downsample1 = Encoder(filter_size=(7,5), stride_size=(2,2), in_channels=45, out_channels=90)\n",
    "        self.downsample2 = Encoder(filter_size=(5,3), stride_size=(2,2), in_channels=90, out_channels=90)\n",
    "        self.downsample3 = Encoder(filter_size=(5,3), stride_size=(2,2), in_channels=90, out_channels=90)\n",
    "        self.downsample4 = Encoder(filter_size=(5,3), stride_size=(2,1), in_channels=90, out_channels=90)\n",
    "        \n",
    "        # upsampling/decoding\n",
    "        self.upsample0 = Decoder(filter_size=(5,3), stride_size=(2,1), in_channels=90, out_channels=90)\n",
    "        self.upsample1 = Decoder(filter_size=(5,3), stride_size=(2,2), in_channels=180, out_channels=90)\n",
    "        self.upsample2 = Decoder(filter_size=(5,3), stride_size=(2,2), in_channels=180, out_channels=90)\n",
    "        self.upsample3 = Decoder(filter_size=(7,5), stride_size=(2,2), in_channels=180, out_channels=45)\n",
    "        self.upsample4 = Decoder(filter_size=(7,5), stride_size=(2,2), in_channels=90, output_padding=(0,1),\n",
    "                                 out_channels=1, last_layer=True)\n",
    "        \n",
    "        \n",
    "    def forward(self, x, is_istft=True):\n",
    "        # downsampling/encoding\n",
    "        d0 = self.downsample0(x)\n",
    "        d1 = self.downsample1(d0) \n",
    "        d2 = self.downsample2(d1)        \n",
    "        d3 = self.downsample3(d2)        \n",
    "        d4 = self.downsample4(d3)\n",
    "        \n",
    "        # upsampling/decoding \n",
    "        u0 = self.upsample0(d4)\n",
    "        # skip-connection\n",
    "        c0 = torch.cat((u0, d3), dim=1)\n",
    "        \n",
    "        u1 = self.upsample1(c0)\n",
    "        c1 = torch.cat((u1, d2), dim=1)\n",
    "        \n",
    "        u2 = self.upsample2(c1)\n",
    "        c2 = torch.cat((u2, d1), dim=1)\n",
    "        \n",
    "        u3 = self.upsample3(c2)\n",
    "        c3 = torch.cat((u3, d0), dim=1)\n",
    "        \n",
    "        u4 = self.upsample4(c3)\n",
    "        \n",
    "        # u4 - the mask\n",
    "        output = u4 * x\n",
    "        if is_istft:\n",
    "            output = torch.squeeze(output, 1)\n",
    "            output = torch.istft(output, n_fft=self.n_fft, hop_length=self.hop_length, normalized=True)\n",
    "        \n",
    "        return output"
   ]
  },
  {
   "cell_type": "markdown",
   "id": "115e97d7",
   "metadata": {
    "papermill": {
     "duration": 0.063833,
     "end_time": "2022-06-09T16:08:45.263393",
     "exception": false,
     "start_time": "2022-06-09T16:08:45.199560",
     "status": "completed"
    },
    "tags": []
   },
   "source": [
    "**TRAINING AND TESTING**"
   ]
  },
  {
   "cell_type": "code",
   "execution_count": 16,
   "id": "6b6b4e16",
   "metadata": {
    "execution": {
     "iopub.execute_input": "2022-06-09T16:08:45.399366Z",
     "iopub.status.busy": "2022-06-09T16:08:45.398388Z",
     "iopub.status.idle": "2022-06-09T16:08:45.400115Z",
     "shell.execute_reply": "2022-06-09T16:08:45.400559Z",
     "shell.execute_reply.started": "2022-06-09T15:32:42.479421Z"
    },
    "papermill": {
     "duration": 0.073938,
     "end_time": "2022-06-09T16:08:45.400711",
     "exception": false,
     "start_time": "2022-06-09T16:08:45.326773",
     "status": "completed"
    },
    "tags": []
   },
   "outputs": [],
   "source": [
    "def train_epoch(net, train_loader, loss_fn, optimizer):\n",
    "    net.train()\n",
    "    train_ep_loss = 0.\n",
    "    counter = 0\n",
    "    for noisy_x, clean_x in train_loader:\n",
    "\n",
    "        noisy_x, clean_x = noisy_x.to(DEVICE), clean_x.to(DEVICE)\n",
    "\n",
    "        # zero  gradients\n",
    "        net.zero_grad()\n",
    "\n",
    "        # get the output from the model\n",
    "        pred_x = net(noisy_x)\n",
    "\n",
    "        # calculate loss\n",
    "        loss = loss_fn(noisy_x, pred_x, clean_x)\n",
    "        loss.backward()\n",
    "        optimizer.step()\n",
    "\n",
    "        train_ep_loss += loss.item() \n",
    "        counter += 1\n",
    "\n",
    "    train_ep_loss /= counter\n",
    "\n",
    "    # clear cache\n",
    "    gc.collect()\n",
    "    torch.cuda.empty_cache()\n",
    "    return train_ep_loss"
   ]
  },
  {
   "cell_type": "code",
   "execution_count": 17,
   "id": "52889817",
   "metadata": {
    "execution": {
     "iopub.execute_input": "2022-06-09T16:08:45.538612Z",
     "iopub.status.busy": "2022-06-09T16:08:45.537785Z",
     "iopub.status.idle": "2022-06-09T16:08:45.539510Z",
     "shell.execute_reply": "2022-06-09T16:08:45.540033Z",
     "shell.execute_reply.started": "2022-06-09T15:32:45.608796Z"
    },
    "papermill": {
     "duration": 0.073019,
     "end_time": "2022-06-09T16:08:45.540171",
     "exception": false,
     "start_time": "2022-06-09T16:08:45.467152",
     "status": "completed"
    },
    "tags": []
   },
   "outputs": [],
   "source": [
    "def test_epoch(net, test_loader, loss_fn):\n",
    "    net.eval()\n",
    "    test_ep_loss = 0.\n",
    "    counter = 0.\n",
    "    for noisy_x, clean_x in test_loader:\n",
    "        # get the output from the model\n",
    "        noisy_x, clean_x = noisy_x.to(DEVICE), clean_x.to(DEVICE)\n",
    "        pred_x = net(noisy_x)\n",
    "\n",
    "        # calculate loss\n",
    "        loss = loss_fn(noisy_x, pred_x, clean_x)\n",
    "        test_ep_loss += loss.item() \n",
    "        \n",
    "        counter += 1\n",
    "\n",
    "    test_ep_loss /= counter\n",
    "\n",
    "    # clear cache\n",
    "    gc.collect()\n",
    "    torch.cuda.empty_cache()\n",
    "    \n",
    "    return test_ep_loss"
   ]
  },
  {
   "cell_type": "code",
   "execution_count": 18,
   "id": "e2df4423",
   "metadata": {
    "execution": {
     "iopub.execute_input": "2022-06-09T16:08:45.676410Z",
     "iopub.status.busy": "2022-06-09T16:08:45.675659Z",
     "iopub.status.idle": "2022-06-09T16:08:45.677505Z",
     "shell.execute_reply": "2022-06-09T16:08:45.677899Z",
     "shell.execute_reply.started": "2022-06-09T15:32:48.502177Z"
    },
    "papermill": {
     "duration": 0.073889,
     "end_time": "2022-06-09T16:08:45.678036",
     "exception": false,
     "start_time": "2022-06-09T16:08:45.604147",
     "status": "completed"
    },
    "tags": []
   },
   "outputs": [],
   "source": [
    "def train(net, train_loader, test_loader, loss_fn, optimizer, scheduler, epochs):\n",
    "    \n",
    "    train_losses = []\n",
    "    test_losses = []\n",
    "\n",
    "    for e in tqdm(range(epochs)):\n",
    "\n",
    "        # first evaluating for comparison\n",
    "        if e == 0:\n",
    "            with torch.no_grad():\n",
    "                test_loss = test_epoch(net, test_loader, loss_fn)\n",
    "                \n",
    "            test_losses.append(test_loss)\n",
    "            print(\"Loss before training:{:.6f}\".format(test_loss))\n",
    "          \n",
    "\n",
    "        train_loss = train_epoch(net, train_loader, loss_fn, optimizer)\n",
    "        scheduler.step()\n",
    "        with torch.no_grad():\n",
    "          test_loss = test_epoch(net, test_loader, loss_fn)\n",
    "\n",
    "        train_losses.append(train_loss)\n",
    "        test_losses.append(test_loss)\n",
    "\n",
    "        # clear cache\n",
    "        torch.cuda.empty_cache()\n",
    "        gc.collect()\n",
    "\n",
    "        print(\"Epoch: {}/{}...\".format(e+1, epochs),\n",
    "                      \"Loss: {:.6f}...\".format(train_loss),\n",
    "                      \"Test Loss: {:.6f}\".format(test_loss))\n",
    "    return train_losses, test_losses"
   ]
  },
  {
   "cell_type": "markdown",
   "id": "c69970d5",
   "metadata": {
    "papermill": {
     "duration": 0.063062,
     "end_time": "2022-06-09T16:08:45.804431",
     "exception": false,
     "start_time": "2022-06-09T16:08:45.741369",
     "status": "completed"
    },
    "tags": []
   },
   "source": [
    "**INITIALISE AND TRAIN THE MODEL FROM SCRATCH**"
   ]
  },
  {
   "cell_type": "code",
   "execution_count": 19,
   "id": "748edd7d",
   "metadata": {
    "execution": {
     "iopub.execute_input": "2022-06-09T16:08:46.048974Z",
     "iopub.status.busy": "2022-06-09T16:08:46.048223Z",
     "iopub.status.idle": "2022-06-09T16:08:46.050220Z",
     "shell.execute_reply": "2022-06-09T16:08:46.051143Z",
     "shell.execute_reply.started": "2022-06-09T16:02:09.051145Z"
    },
    "papermill": {
     "duration": 0.181461,
     "end_time": "2022-06-09T16:08:46.051316",
     "exception": false,
     "start_time": "2022-06-09T16:08:45.869855",
     "status": "completed"
    },
    "tags": []
   },
   "outputs": [],
   "source": [
    "import gc\n",
    "gc.collect()\n",
    "torch.cuda.empty_cache()"
   ]
  },
  {
   "cell_type": "code",
   "execution_count": 20,
   "id": "de2d3124",
   "metadata": {
    "execution": {
     "iopub.execute_input": "2022-06-09T16:08:46.189441Z",
     "iopub.status.busy": "2022-06-09T16:08:46.188886Z",
     "iopub.status.idle": "2022-06-09T16:08:49.129110Z",
     "shell.execute_reply": "2022-06-09T16:08:49.128612Z",
     "shell.execute_reply.started": "2022-06-09T16:05:50.050885Z"
    },
    "papermill": {
     "duration": 3.012938,
     "end_time": "2022-06-09T16:08:49.129248",
     "exception": false,
     "start_time": "2022-06-09T16:08:46.116310",
     "status": "completed"
    },
    "tags": []
   },
   "outputs": [],
   "source": [
    "import torch\n",
    "custom = Custom(N_FFT, HOP_LENGTH).to(DEVICE)"
   ]
  },
  {
   "cell_type": "code",
   "execution_count": 21,
   "id": "6a9f6575",
   "metadata": {
    "execution": {
     "iopub.execute_input": "2022-06-09T16:08:49.262767Z",
     "iopub.status.busy": "2022-06-09T16:08:49.261934Z",
     "iopub.status.idle": "2022-06-09T16:08:49.264351Z",
     "shell.execute_reply": "2022-06-09T16:08:49.263922Z",
     "shell.execute_reply.started": "2022-06-09T16:05:52.721861Z"
    },
    "papermill": {
     "duration": 0.070983,
     "end_time": "2022-06-09T16:08:49.264454",
     "exception": false,
     "start_time": "2022-06-09T16:08:49.193471",
     "status": "completed"
    },
    "tags": []
   },
   "outputs": [],
   "source": [
    "loss_fn = nn.ReLU(inplace=False)\n",
    "optimizer = torch.optim.Adam(custom.parameters(), lr=1e-4)\n",
    "scheduler = torch.optim.lr_scheduler.StepLR(optimizer, step_size=1, gamma=0.1)"
   ]
  },
  {
   "cell_type": "markdown",
   "id": "1eac4d0f",
   "metadata": {
    "papermill": {
     "duration": 0.064223,
     "end_time": "2022-06-09T16:08:49.391681",
     "exception": false,
     "start_time": "2022-06-09T16:08:49.327458",
     "status": "completed"
    },
    "tags": []
   },
   "source": [
    "START TRAINING"
   ]
  },
  {
   "cell_type": "code",
   "execution_count": 22,
   "id": "6ca3b2fc",
   "metadata": {
    "execution": {
     "iopub.execute_input": "2022-06-09T16:08:49.524261Z",
     "iopub.status.busy": "2022-06-09T16:08:49.523381Z",
     "iopub.status.idle": "2022-06-09T16:08:49.525155Z",
     "shell.execute_reply": "2022-06-09T16:08:49.525548Z",
     "shell.execute_reply.started": "2022-05-28T14:05:41.2865Z"
    },
    "papermill": {
     "duration": 0.069911,
     "end_time": "2022-06-09T16:08:49.525684",
     "exception": false,
     "start_time": "2022-06-09T16:08:49.455773",
     "status": "completed"
    },
    "tags": []
   },
   "outputs": [],
   "source": [
    "#train_losses, test_losses = train(custom, train_loader, test_loader, loss_fn, optimizer, scheduler, 3)"
   ]
  },
  {
   "cell_type": "markdown",
   "id": "e38b71a2",
   "metadata": {
    "papermill": {
     "duration": 0.062728,
     "end_time": "2022-06-09T16:08:49.652096",
     "exception": false,
     "start_time": "2022-06-09T16:08:49.589368",
     "status": "completed"
    },
    "tags": []
   },
   "source": [
    "**LOAD TRAINED MODEL**"
   ]
  },
  {
   "cell_type": "code",
   "execution_count": 23,
   "id": "bfa9dbb5",
   "metadata": {
    "execution": {
     "iopub.execute_input": "2022-06-09T16:08:49.782490Z",
     "iopub.status.busy": "2022-06-09T16:08:49.781948Z",
     "iopub.status.idle": "2022-06-09T16:08:50.077894Z",
     "shell.execute_reply": "2022-06-09T16:08:50.078292Z",
     "shell.execute_reply.started": "2022-06-09T16:05:56.814476Z"
    },
    "papermill": {
     "duration": 0.363261,
     "end_time": "2022-06-09T16:08:50.078441",
     "exception": false,
     "start_time": "2022-06-09T16:08:49.715180",
     "status": "completed"
    },
    "tags": []
   },
   "outputs": [
    {
     "data": {
      "text/plain": [
       "<All keys matched successfully>"
      ]
     },
     "execution_count": 23,
     "metadata": {},
     "output_type": "execute_result"
    }
   ],
   "source": [
    "custom.load_state_dict(torch.load(\"../input/weights/__weights.pth\"))"
   ]
  },
  {
   "cell_type": "markdown",
   "id": "a41b58f6",
   "metadata": {
    "papermill": {
     "duration": 0.062918,
     "end_time": "2022-06-09T16:08:50.205267",
     "exception": false,
     "start_time": "2022-06-09T16:08:50.142349",
     "status": "completed"
    },
    "tags": []
   },
   "source": [
    "**ACTUAL VOICE RECORDING TESTING**"
   ]
  },
  {
   "cell_type": "code",
   "execution_count": 24,
   "id": "bfa8c282",
   "metadata": {
    "execution": {
     "iopub.execute_input": "2022-06-09T16:08:50.338592Z",
     "iopub.status.busy": "2022-06-09T16:08:50.337960Z",
     "iopub.status.idle": "2022-06-09T16:08:50.346890Z",
     "shell.execute_reply": "2022-06-09T16:08:50.346417Z",
     "shell.execute_reply.started": "2022-06-09T16:06:49.590731Z"
    },
    "papermill": {
     "duration": 0.078434,
     "end_time": "2022-06-09T16:08:50.347035",
     "exception": false,
     "start_time": "2022-06-09T16:08:50.268601",
     "status": "completed"
    },
    "tags": []
   },
   "outputs": [],
   "source": [
    "VALIDATION_NOISY_DIR = Path('../input/pk-test-audio/cafe')\n",
    "#VALIDATION_NOISY_DIR = Path('../input/pk-test-audio/vehicle')\n",
    "#VALIDATION_NOISY_DIR = Path('../input/pk-test-audio/white')\n",
    "VALIDATION_CLEAN_DIR = Path('../input/pk-test-audio/cafe')\n",
    "validation_noisy_files = sorted(list(VALIDATION_NOISY_DIR.rglob('*.wav')))\n",
    "validation_clean_files = sorted(list(VALIDATION_CLEAN_DIR.rglob('*.wav')))\n",
    "\n",
    "validation_dataset = SpeechDataset(validation_noisy_files, validation_clean_files, N_FFT, HOP_LENGTH)\n",
    "\n",
    "validation_loader = DataLoader(validation_dataset, batch_size=2, shuffle=True)"
   ]
  },
  {
   "cell_type": "markdown",
   "id": "eef77247",
   "metadata": {
    "papermill": {
     "duration": 0.06435,
     "end_time": "2022-06-09T16:08:50.476960",
     "exception": false,
     "start_time": "2022-06-09T16:08:50.412610",
     "status": "completed"
    },
    "tags": []
   },
   "source": [
    "**VALIDATION**"
   ]
  },
  {
   "cell_type": "code",
   "execution_count": 25,
   "id": "bbe81637",
   "metadata": {
    "execution": {
     "iopub.execute_input": "2022-06-09T16:08:50.610527Z",
     "iopub.status.busy": "2022-06-09T16:08:50.609926Z",
     "iopub.status.idle": "2022-06-09T16:08:50.612599Z",
     "shell.execute_reply": "2022-06-09T16:08:50.613012Z",
     "shell.execute_reply.started": "2022-05-28T14:05:41.421557Z"
    },
    "papermill": {
     "duration": 0.071962,
     "end_time": "2022-06-09T16:08:50.613142",
     "exception": false,
     "start_time": "2022-06-09T16:08:50.541180",
     "status": "completed"
    },
    "tags": []
   },
   "outputs": [
    {
     "data": {
      "text/plain": [
       "\"VALIDATION_NOISY_DIR = Path('../input/validation-from-dataset/Validation/Noisy speech')\\nVALIDATION_CLEAN_DIR = Path('../input/validation-from-dataset/Validation/Clean speech')\\n\\nvalidation_noisy_files = sorted(list(VALIDATION_NOISY_DIR.rglob('*.wav')))\\nvalidation_clean_files = sorted(list(VALIDATION_CLEAN_DIR.rglob('*.wav')))\\n\\nvalidation_dataset = SpeechDataset(validation_noisy_files, validation_clean_files, N_FFT, HOP_LENGTH)\\n\\nvalidation_loader = DataLoader(validation_dataset, batch_size=2, shuffle=True)\""
      ]
     },
     "execution_count": 25,
     "metadata": {},
     "output_type": "execute_result"
    }
   ],
   "source": [
    "\"\"\"VALIDATION_NOISY_DIR = Path('../input/validation-from-dataset/Validation/Noisy speech')\n",
    "VALIDATION_CLEAN_DIR = Path('../input/validation-from-dataset/Validation/Clean speech')\n",
    "\n",
    "validation_noisy_files = sorted(list(VALIDATION_NOISY_DIR.rglob('*.wav')))\n",
    "validation_clean_files = sorted(list(VALIDATION_CLEAN_DIR.rglob('*.wav')))\n",
    "\n",
    "validation_dataset = SpeechDataset(validation_noisy_files, validation_clean_files, N_FFT, HOP_LENGTH)\n",
    "\n",
    "validation_loader = DataLoader(validation_dataset, batch_size=2, shuffle=True)\"\"\""
   ]
  },
  {
   "cell_type": "code",
   "execution_count": 26,
   "id": "b1280f1a",
   "metadata": {
    "execution": {
     "iopub.execute_input": "2022-06-09T16:08:50.747554Z",
     "iopub.status.busy": "2022-06-09T16:08:50.746987Z",
     "iopub.status.idle": "2022-06-09T16:08:56.249150Z",
     "shell.execute_reply": "2022-06-09T16:08:56.249614Z",
     "shell.execute_reply.started": "2022-06-09T16:06:54.209579Z"
    },
    "papermill": {
     "duration": 5.572893,
     "end_time": "2022-06-09T16:08:56.249780",
     "exception": false,
     "start_time": "2022-06-09T16:08:50.676887",
     "status": "completed"
    },
    "tags": []
   },
   "outputs": [
    {
     "name": "stderr",
     "output_type": "stream",
     "text": [
      "/opt/conda/lib/python3.7/site-packages/torch/functional.py:472: UserWarning: stft will soon require the return_complex parameter be given for real inputs, and will further require that return_complex=True in a future PyTorch release. (Triggered internally at  /usr/local/src/pytorch/aten/src/ATen/native/SpectralOps.cpp:661.)\n",
      "  normalized, onesided, return_complex)\n",
      "/opt/conda/lib/python3.7/site-packages/torch/functional.py:546: UserWarning: istft will require a complex-valued input tensor in a future PyTorch release. Matching the output from stft with return_complex=True.  (Triggered internally at  /usr/local/src/pytorch/aten/src/ATen/native/SpectralOps.cpp:815.)\n",
      "  normalized, onesided, length, return_complex)\n"
     ]
    }
   ],
   "source": [
    "custom.eval()\n",
    "x_n, x_c = iter(validation_loader).next()\n",
    "x_est = custom(x_n.cuda(), is_istft=True)"
   ]
  },
  {
   "cell_type": "markdown",
   "id": "d7c086e8",
   "metadata": {
    "papermill": {
     "duration": 0.066076,
     "end_time": "2022-06-09T16:08:56.381485",
     "exception": false,
     "start_time": "2022-06-09T16:08:56.315409",
     "status": "completed"
    },
    "tags": []
   },
   "source": [
    "**VISUALISE RESULTS**"
   ]
  },
  {
   "cell_type": "markdown",
   "id": "91178403",
   "metadata": {
    "papermill": {
     "duration": 0.066043,
     "end_time": "2022-06-09T16:08:56.513438",
     "exception": false,
     "start_time": "2022-06-09T16:08:56.447395",
     "status": "completed"
    },
    "tags": []
   },
   "source": [
    "NOISY SPEECH"
   ]
  },
  {
   "cell_type": "code",
   "execution_count": 27,
   "id": "04b864e1",
   "metadata": {
    "execution": {
     "iopub.execute_input": "2022-06-09T16:08:56.649507Z",
     "iopub.status.busy": "2022-06-09T16:08:56.648544Z",
     "iopub.status.idle": "2022-06-09T16:08:56.998143Z",
     "shell.execute_reply": "2022-06-09T16:08:56.998549Z",
     "shell.execute_reply.started": "2022-06-09T16:06:58.200974Z"
    },
    "papermill": {
     "duration": 0.420305,
     "end_time": "2022-06-09T16:08:56.998704",
     "exception": false,
     "start_time": "2022-06-09T16:08:56.578399",
     "status": "completed"
    },
    "tags": []
   },
   "outputs": [
    {
     "data": {
      "image/png": "[encoded data removed]",
      "text/plain": [
       "<Figure size 432x288 with 1 Axes>"
      ]
     },
     "metadata": {
      "needs_background": "light"
     },
     "output_type": "display_data"
    }
   ],
   "source": [
    "x_n = torch.squeeze(x_n, 1)\n",
    "plt.plot(torch.istft(x_n, n_fft=N_FFT, hop_length=HOP_LENGTH, normalized=True).view(-1).detach().cpu().numpy())\n",
    "x_n = torch.istft(x_n, n_fft=N_FFT, hop_length=HOP_LENGTH, normalized=True)"
   ]
  },
  {
   "cell_type": "markdown",
   "id": "1162505b",
   "metadata": {
    "papermill": {
     "duration": 0.066408,
     "end_time": "2022-06-09T16:08:57.130830",
     "exception": false,
     "start_time": "2022-06-09T16:08:57.064422",
     "status": "completed"
    },
    "tags": []
   },
   "source": [
    "PREDICTED SPEECH"
   ]
  },
  {
   "cell_type": "code",
   "execution_count": 28,
   "id": "d1ea6abc",
   "metadata": {
    "execution": {
     "iopub.execute_input": "2022-06-09T16:08:57.268908Z",
     "iopub.status.busy": "2022-06-09T16:08:57.268067Z",
     "iopub.status.idle": "2022-06-09T16:08:57.504934Z",
     "shell.execute_reply": "2022-06-09T16:08:57.505436Z",
     "shell.execute_reply.started": "2022-06-09T16:07:02.151200Z"
    },
    "papermill": {
     "duration": 0.309512,
     "end_time": "2022-06-09T16:08:57.505609",
     "exception": false,
     "start_time": "2022-06-09T16:08:57.196097",
     "status": "completed"
    },
    "tags": []
   },
   "outputs": [
    {
     "data": {
      "text/plain": [
       "[<matplotlib.lines.Line2D at 0x7f6ce8315410>]"
      ]
     },
     "execution_count": 28,
     "metadata": {},
     "output_type": "execute_result"
    },
    {
     "data": {
      "image/png": "[encoded data removed]",
      "text/plain": [
       "<Figure size 432x288 with 1 Axes>"
      ]
     },
     "metadata": {
      "needs_background": "light"
     },
     "output_type": "display_data"
    }
   ],
   "source": [
    "plt.plot(x_est.view(-1).detach().cpu().numpy())"
   ]
  },
  {
   "cell_type": "markdown",
   "id": "b8f625ef",
   "metadata": {
    "papermill": {
     "duration": 0.066333,
     "end_time": "2022-06-09T16:08:57.640189",
     "exception": false,
     "start_time": "2022-06-09T16:08:57.573856",
     "status": "completed"
    },
    "tags": []
   },
   "source": [
    "CLEAN SPEECH"
   ]
  },
  {
   "cell_type": "code",
   "execution_count": 29,
   "id": "1e8d3edb",
   "metadata": {
    "execution": {
     "iopub.execute_input": "2022-06-09T16:08:57.778353Z",
     "iopub.status.busy": "2022-06-09T16:08:57.777725Z",
     "iopub.status.idle": "2022-06-09T16:08:57.780446Z",
     "shell.execute_reply": "2022-06-09T16:08:57.780873Z",
     "shell.execute_reply.started": "2022-05-28T14:05:41.826043Z"
    },
    "papermill": {
     "duration": 0.074592,
     "end_time": "2022-06-09T16:08:57.781028",
     "exception": false,
     "start_time": "2022-06-09T16:08:57.706436",
     "status": "completed"
    },
    "tags": []
   },
   "outputs": [
    {
     "data": {
      "text/plain": [
       "'x_c = torch.squeeze(x_c, 1)\\nplt.plot(torch.istft(x_c, n_fft=N_FFT, hop_length=HOP_LENGTH, normalized=True).view(-1).detach().cpu().numpy())\\nx_c = torch.istft(x_c, n_fft=N_FFT, hop_length=HOP_LENGTH, normalized=True)'"
      ]
     },
     "execution_count": 29,
     "metadata": {},
     "output_type": "execute_result"
    }
   ],
   "source": [
    "\"\"\"x_c = torch.squeeze(x_c, 1)\n",
    "plt.plot(torch.istft(x_c, n_fft=N_FFT, hop_length=HOP_LENGTH, normalized=True).view(-1).detach().cpu().numpy())\n",
    "x_c = torch.istft(x_c, n_fft=N_FFT, hop_length=HOP_LENGTH, normalized=True)\"\"\""
   ]
  },
  {
   "cell_type": "markdown",
   "id": "8a81f7a8",
   "metadata": {
    "papermill": {
     "duration": 0.06893,
     "end_time": "2022-06-09T16:08:57.917366",
     "exception": false,
     "start_time": "2022-06-09T16:08:57.848436",
     "status": "completed"
    },
    "tags": []
   },
   "source": [
    "SHAPE OF THE AUDIO TENSORS"
   ]
  },
  {
   "cell_type": "code",
   "execution_count": 30,
   "id": "f453a1fd",
   "metadata": {
    "execution": {
     "iopub.execute_input": "2022-06-09T16:08:58.061458Z",
     "iopub.status.busy": "2022-06-09T16:08:58.060720Z",
     "iopub.status.idle": "2022-06-09T16:08:58.064064Z",
     "shell.execute_reply": "2022-06-09T16:08:58.064744Z",
     "shell.execute_reply.started": "2022-06-01T02:46:17.157219Z"
    },
    "papermill": {
     "duration": 0.078711,
     "end_time": "2022-06-09T16:08:58.064921",
     "exception": false,
     "start_time": "2022-06-09T16:08:57.986210",
     "status": "completed"
    },
    "tags": []
   },
   "outputs": [
    {
     "name": "stdout",
     "output_type": "stream",
     "text": [
      "torch.Size([1, 164436])\n",
      "torch.Size([1, 1, 1539, 214, 2])\n",
      "torch.Size([1, 164436])\n"
     ]
    }
   ],
   "source": [
    "print(x_n.size())\n",
    "print(x_c.size())\n",
    "print(x_est.size())"
   ]
  },
  {
   "cell_type": "code",
   "execution_count": 31,
   "id": "b6772ced",
   "metadata": {
    "execution": {
     "iopub.execute_input": "2022-06-09T16:08:58.206753Z",
     "iopub.status.busy": "2022-06-09T16:08:58.205924Z",
     "iopub.status.idle": "2022-06-09T16:08:58.207906Z",
     "shell.execute_reply": "2022-06-09T16:08:58.208323Z",
     "shell.execute_reply.started": "2022-06-09T16:07:10.792578Z"
    },
    "papermill": {
     "duration": 0.074925,
     "end_time": "2022-06-09T16:08:58.208455",
     "exception": false,
     "start_time": "2022-06-09T16:08:58.133530",
     "status": "completed"
    },
    "tags": []
   },
   "outputs": [],
   "source": [
    "x_est = torch.unsqueeze(x_est, 1)\n",
    "x_n = torch.unsqueeze(x_n, 1)\n",
    "x_c = torch.unsqueeze(x_c, 1)"
   ]
  },
  {
   "cell_type": "code",
   "execution_count": 32,
   "id": "e2ed9802",
   "metadata": {
    "execution": {
     "iopub.execute_input": "2022-06-09T16:08:58.351470Z",
     "iopub.status.busy": "2022-06-09T16:08:58.350672Z",
     "iopub.status.idle": "2022-06-09T16:08:58.353722Z",
     "shell.execute_reply": "2022-06-09T16:08:58.354302Z",
     "shell.execute_reply.started": "2022-05-28T14:05:42.1093Z"
    },
    "papermill": {
     "duration": 0.077557,
     "end_time": "2022-06-09T16:08:58.354485",
     "exception": false,
     "start_time": "2022-06-09T16:08:58.276928",
     "status": "completed"
    },
    "tags": []
   },
   "outputs": [
    {
     "name": "stdout",
     "output_type": "stream",
     "text": [
      "torch.Size([1, 1, 164436])\n",
      "torch.Size([1, 1, 1, 1539, 214, 2])\n",
      "torch.Size([1, 1, 164436])\n"
     ]
    }
   ],
   "source": [
    "print(x_n.size())\n",
    "print(x_c.size())\n",
    "print(x_est.size())"
   ]
  },
  {
   "cell_type": "markdown",
   "id": "eb73c157",
   "metadata": {
    "papermill": {
     "duration": 0.068588,
     "end_time": "2022-06-09T16:08:58.493024",
     "exception": false,
     "start_time": "2022-06-09T16:08:58.424436",
     "status": "completed"
    },
    "tags": []
   },
   "source": [
    "**CONVERT TENSOR TO NUMPY ARRAY**"
   ]
  },
  {
   "cell_type": "code",
   "execution_count": 33,
   "id": "e95141c7",
   "metadata": {
    "execution": {
     "iopub.execute_input": "2022-06-09T16:08:58.631917Z",
     "iopub.status.busy": "2022-06-09T16:08:58.631128Z",
     "iopub.status.idle": "2022-06-09T16:08:58.635309Z",
     "shell.execute_reply": "2022-06-09T16:08:58.635751Z",
     "shell.execute_reply.started": "2022-06-09T16:07:14.368625Z"
    },
    "papermill": {
     "duration": 0.075559,
     "end_time": "2022-06-09T16:08:58.635882",
     "exception": false,
     "start_time": "2022-06-09T16:08:58.560323",
     "status": "completed"
    },
    "tags": []
   },
   "outputs": [],
   "source": [
    "#np_arr_1 = x_n.detach().cpu().numpy()\n",
    "#np_arr_2 = x_c.detach().cpu().numpy()\n",
    "np_arr_3 = x_est.detach().cpu().numpy()"
   ]
  },
  {
   "cell_type": "markdown",
   "id": "e78383f4",
   "metadata": {
    "papermill": {
     "duration": 0.067543,
     "end_time": "2022-06-09T16:08:58.770439",
     "exception": false,
     "start_time": "2022-06-09T16:08:58.702896",
     "status": "completed"
    },
    "tags": []
   },
   "source": [
    "**CONVERT NUMPY ARRAY TO AUDIO WAV FILE**"
   ]
  },
  {
   "cell_type": "code",
   "execution_count": 34,
   "id": "183165ea",
   "metadata": {
    "execution": {
     "iopub.execute_input": "2022-06-09T16:08:58.960968Z",
     "iopub.status.busy": "2022-06-09T16:08:58.959594Z",
     "iopub.status.idle": "2022-06-09T16:08:59.105685Z",
     "shell.execute_reply": "2022-06-09T16:08:59.106354Z",
     "shell.execute_reply.started": "2022-06-09T16:07:17.215687Z"
    },
    "papermill": {
     "duration": 0.267143,
     "end_time": "2022-06-09T16:08:59.106561",
     "exception": false,
     "start_time": "2022-06-09T16:08:58.839418",
     "status": "completed"
    },
    "tags": []
   },
   "outputs": [],
   "source": [
    "import numpy as np\n",
    "from scipy.io.wavfile import write\n",
    "\n",
    "#data = np.random.uniform(-1,1,44100) # 44100 random samples between -1 and 1\n",
    "#data = np_arr_1\n",
    "#scaled = np.int16(data/np.max(np.abs(data)) * 32767)\n",
    "#write('noisy.wav', 44100, scaled)\n",
    "\n",
    "#data = np_arr_2\n",
    "#scaled = np.int16(data/np.max(np.abs(data)) * 32767)\n",
    "#write('clean.wav', 48000, scaled)\n",
    "\n",
    "data = np_arr_3\n",
    "scaled = np.int16(data/np.max(np.abs(data)) * 32767)\n",
    "write('predicted_cafe.wav', 44100, scaled)\n",
    "#write('predicted_vehicle.wav', 44100, scaled)\n",
    "#write('predicted_white.wav', 44100, scaled)"
   ]
  },
  {
   "cell_type": "markdown",
   "id": "019a6942",
   "metadata": {
    "papermill": {
     "duration": 0.10788,
     "end_time": "2022-06-09T16:08:59.336066",
     "exception": false,
     "start_time": "2022-06-09T16:08:59.228186",
     "status": "completed"
    },
    "tags": []
   },
   "source": [
    "REMOVE OUTPUT FILES IF NEEDED"
   ]
  },
  {
   "cell_type": "code",
   "execution_count": 35,
   "id": "a504b141",
   "metadata": {
    "execution": {
     "iopub.execute_input": "2022-06-09T16:08:59.570221Z",
     "iopub.status.busy": "2022-06-09T16:08:59.568432Z",
     "iopub.status.idle": "2022-06-09T16:08:59.571977Z",
     "shell.execute_reply": "2022-06-09T16:08:59.571024Z",
     "shell.execute_reply.started": "2022-06-09T16:07:20.584452Z"
    },
    "papermill": {
     "duration": 0.120069,
     "end_time": "2022-06-09T16:08:59.572158",
     "exception": false,
     "start_time": "2022-06-09T16:08:59.452089",
     "status": "completed"
    },
    "tags": []
   },
   "outputs": [],
   "source": [
    "os.remove(\"/kaggle/working/predicted_cafe.wav\")\n",
    "#os.remove(\"/kaggle/working/predicted_vehicle.wav\")\n",
    "#os.remove(\"/kaggle/working/predicted_white.wav\")\n",
    "#os.remove(\"/kaggle/working/clean.wav\")\n",
    "#os.remove(\"/kaggle/working/noisy.wav\")"
   ]
  },
  {
   "cell_type": "markdown",
   "id": "129a41a6",
   "metadata": {
    "papermill": {
     "duration": 0.110991,
     "end_time": "2022-06-09T16:08:59.793659",
     "exception": false,
     "start_time": "2022-06-09T16:08:59.682668",
     "status": "completed"
    },
    "tags": []
   },
   "source": [
    "**EVALUATION METRICS**"
   ]
  },
  {
   "cell_type": "markdown",
   "id": "940a4d8b",
   "metadata": {
    "papermill": {
     "duration": 0.11164,
     "end_time": "2022-06-09T16:09:00.017316",
     "exception": false,
     "start_time": "2022-06-09T16:08:59.905676",
     "status": "completed"
    },
    "tags": []
   },
   "source": [
    "PESQ SCORE (Perceptual Evaluation of Speech Quality)"
   ]
  },
  {
   "cell_type": "code",
   "execution_count": 36,
   "id": "60c065bc",
   "metadata": {
    "execution": {
     "iopub.execute_input": "2022-06-09T16:09:00.188888Z",
     "iopub.status.busy": "2022-06-09T16:09:00.188039Z",
     "iopub.status.idle": "2022-06-09T16:09:00.190714Z",
     "shell.execute_reply": "2022-06-09T16:09:00.190228Z",
     "shell.execute_reply.started": "2022-05-28T14:05:42.151142Z"
    },
    "papermill": {
     "duration": 0.073876,
     "end_time": "2022-06-09T16:09:00.190830",
     "exception": false,
     "start_time": "2022-06-09T16:09:00.116954",
     "status": "completed"
    },
    "tags": []
   },
   "outputs": [],
   "source": [
    "#pip install https://github.com/ludlows/python-pesq/archive/master.zip"
   ]
  },
  {
   "cell_type": "code",
   "execution_count": 37,
   "id": "8b6e3e48",
   "metadata": {
    "execution": {
     "iopub.execute_input": "2022-06-09T16:09:00.333282Z",
     "iopub.status.busy": "2022-06-09T16:09:00.332521Z",
     "iopub.status.idle": "2022-06-09T16:09:00.335315Z",
     "shell.execute_reply": "2022-06-09T16:09:00.335786Z",
     "shell.execute_reply.started": "2022-05-28T14:05:42.15688Z"
    },
    "papermill": {
     "duration": 0.076527,
     "end_time": "2022-06-09T16:09:00.335916",
     "exception": false,
     "start_time": "2022-06-09T16:09:00.259389",
     "status": "completed"
    },
    "tags": []
   },
   "outputs": [
    {
     "data": {
      "text/plain": [
       "'rom scipy.io import wavfile\\nfrom pesq import pesq\\n\\nrate, ref = wavfile.read(\"../input/data-for-metrics/Metrics/clean.wav\")\\nrate, deg = wavfile.read(\"../input/data-for-metrics/Metrics/predicted.wav\")\\n\\nprint(pesq(16000, ref, deg, \\'wb\\'))\\nprint(pesq(8000, ref, deg, \\'nb\\'))\\nprint(pesq(16000, ref, deg, \\'nb\\'))'"
      ]
     },
     "execution_count": 37,
     "metadata": {},
     "output_type": "execute_result"
    }
   ],
   "source": [
    "\"\"\"rom scipy.io import wavfile\n",
    "from pesq import pesq\n",
    "\n",
    "rate, ref = wavfile.read(\"../input/data-for-metrics/Metrics/clean.wav\")\n",
    "rate, deg = wavfile.read(\"../input/data-for-metrics/Metrics/predicted.wav\")\n",
    "\n",
    "print(pesq(16000, ref, deg, 'wb'))\n",
    "print(pesq(8000, ref, deg, 'nb'))\n",
    "print(pesq(16000, ref, deg, 'nb'))\"\"\""
   ]
  },
  {
   "cell_type": "markdown",
   "id": "0839b481",
   "metadata": {
    "papermill": {
     "duration": 0.068029,
     "end_time": "2022-06-09T16:09:00.472577",
     "exception": false,
     "start_time": "2022-06-09T16:09:00.404548",
     "status": "completed"
    },
    "tags": []
   },
   "source": [
    "STOI SCORE (Short-Time Objective Intelligibility Measure)"
   ]
  },
  {
   "cell_type": "code",
   "execution_count": 38,
   "id": "0dd554c7",
   "metadata": {
    "execution": {
     "iopub.execute_input": "2022-06-09T16:09:00.613021Z",
     "iopub.status.busy": "2022-06-09T16:09:00.612179Z",
     "iopub.status.idle": "2022-06-09T16:09:00.614264Z",
     "shell.execute_reply": "2022-06-09T16:09:00.613750Z",
     "shell.execute_reply.started": "2022-05-28T14:05:42.168302Z"
    },
    "papermill": {
     "duration": 0.073696,
     "end_time": "2022-06-09T16:09:00.614374",
     "exception": false,
     "start_time": "2022-06-09T16:09:00.540678",
     "status": "completed"
    },
    "tags": []
   },
   "outputs": [],
   "source": [
    "#pip install pystoi"
   ]
  },
  {
   "cell_type": "code",
   "execution_count": 39,
   "id": "cbb61e4a",
   "metadata": {
    "execution": {
     "iopub.execute_input": "2022-06-09T16:09:00.754644Z",
     "iopub.status.busy": "2022-06-09T16:09:00.754035Z",
     "iopub.status.idle": "2022-06-09T16:09:00.756644Z",
     "shell.execute_reply": "2022-06-09T16:09:00.757048Z",
     "shell.execute_reply.started": "2022-05-28T14:05:42.175377Z"
    },
    "papermill": {
     "duration": 0.07508,
     "end_time": "2022-06-09T16:09:00.757185",
     "exception": false,
     "start_time": "2022-06-09T16:09:00.682105",
     "status": "completed"
    },
    "tags": []
   },
   "outputs": [
    {
     "data": {
      "text/plain": [
       "'import soundfile as sf\\nfrom pystoi import stoi\\n\\nclean, fs = sf.read(\"../input/data-for-metrics/Metrics/clean.wav\")\\ndenoised, fs = sf.read(\"../input/data-for-metrics/Metrics/predicted.wav\")\\n\\n# Clean and den should have the same length, and be 1D\\nd = stoi(clean, denoised, fs, extended=False)\\nprint(d)'"
      ]
     },
     "execution_count": 39,
     "metadata": {},
     "output_type": "execute_result"
    }
   ],
   "source": [
    "\"\"\"import soundfile as sf\n",
    "from pystoi import stoi\n",
    "\n",
    "clean, fs = sf.read(\"../input/data-for-metrics/Metrics/clean.wav\")\n",
    "denoised, fs = sf.read(\"../input/data-for-metrics/Metrics/predicted.wav\")\n",
    "\n",
    "# Clean and den should have the same length, and be 1D\n",
    "d = stoi(clean, denoised, fs, extended=False)\n",
    "print(d)\"\"\""
   ]
  },
  {
   "cell_type": "markdown",
   "id": "aaae017c",
   "metadata": {
    "papermill": {
     "duration": 0.069135,
     "end_time": "2022-06-09T16:09:00.894866",
     "exception": false,
     "start_time": "2022-06-09T16:09:00.825731",
     "status": "completed"
    },
    "tags": []
   },
   "source": [
    "**MIX CLEAN SPEECH WITH DIFFERENT TYPES OF NOISES FOR FURTHER TESTING**"
   ]
  },
  {
   "cell_type": "markdown",
   "id": "9bcc5b55",
   "metadata": {
    "papermill": {
     "duration": 0.069775,
     "end_time": "2022-06-09T16:09:01.043104",
     "exception": false,
     "start_time": "2022-06-09T16:09:00.973329",
     "status": "completed"
    },
    "tags": []
   },
   "source": [
    "CREATE VIRTUAL ENVIRONMENT"
   ]
  },
  {
   "cell_type": "code",
   "execution_count": 40,
   "id": "acc16c87",
   "metadata": {
    "execution": {
     "iopub.execute_input": "2022-06-09T16:09:01.186723Z",
     "iopub.status.busy": "2022-06-09T16:09:01.185820Z",
     "iopub.status.idle": "2022-06-09T16:09:01.187743Z",
     "shell.execute_reply": "2022-06-09T16:09:01.188165Z",
     "shell.execute_reply.started": "2022-05-28T14:05:42.188112Z"
    },
    "papermill": {
     "duration": 0.075922,
     "end_time": "2022-06-09T16:09:01.188314",
     "exception": false,
     "start_time": "2022-06-09T16:09:01.112392",
     "status": "completed"
    },
    "tags": []
   },
   "outputs": [],
   "source": [
    "#pip install --user pipenv"
   ]
  },
  {
   "cell_type": "markdown",
   "id": "30654294",
   "metadata": {
    "papermill": {
     "duration": 0.070125,
     "end_time": "2022-06-09T16:09:01.328623",
     "exception": false,
     "start_time": "2022-06-09T16:09:01.258498",
     "status": "completed"
    },
    "tags": []
   },
   "source": [
    "FOR 16-BIT PCM ONLY"
   ]
  },
  {
   "cell_type": "code",
   "execution_count": 41,
   "id": "bccf8125",
   "metadata": {
    "execution": {
     "iopub.execute_input": "2022-06-09T16:09:01.475872Z",
     "iopub.status.busy": "2022-06-09T16:09:01.475252Z",
     "iopub.status.idle": "2022-06-09T16:09:01.477862Z",
     "shell.execute_reply": "2022-06-09T16:09:01.478302Z",
     "shell.execute_reply.started": "2022-05-28T14:05:42.235854Z"
    },
    "papermill": {
     "duration": 0.078073,
     "end_time": "2022-06-09T16:09:01.478439",
     "exception": false,
     "start_time": "2022-06-09T16:09:01.400366",
     "status": "completed"
    },
    "tags": []
   },
   "outputs": [
    {
     "data": {
      "text/plain": [
       "'def cal_adjusted_rms(clean_rms, snr):\\n    a = float(snr) / 20\\n    noise_rms = clean_rms / (10**a) \\n    return noise_rms\\n\\ndef cal_amp(wf):\\n    buffer = wf.readframes(wf.getnframes())\\n    # The dtype depends on the value of pulse-code modulation. The int16 is set for 16-bit PCM.\\n    amptitude = (np.frombuffer(buffer, dtype=\"int16\")).astype(np.float64)\\n    return amptitude\\n\\ndef cal_rms(amp):\\n    return np.sqrt(np.mean(np.square(amp), axis=-1))\\n\\ndef save_waveform(output_path, params, amp):\\n    output_file = wave.Wave_write(output_path)\\n    output_file.setparams(params) #nchannels, sampwidth, framerate, nframes, comptype, compname\\n    output_file.writeframes(array.array(\\'h\\', amp.astype(np.int16)).tobytes() )\\n    output_file.close()'"
      ]
     },
     "execution_count": 41,
     "metadata": {},
     "output_type": "execute_result"
    }
   ],
   "source": [
    "\"\"\"def cal_adjusted_rms(clean_rms, snr):\n",
    "    a = float(snr) / 20\n",
    "    noise_rms = clean_rms / (10**a) \n",
    "    return noise_rms\n",
    "\n",
    "def cal_amp(wf):\n",
    "    buffer = wf.readframes(wf.getnframes())\n",
    "    # The dtype depends on the value of pulse-code modulation. The int16 is set for 16-bit PCM.\n",
    "    amptitude = (np.frombuffer(buffer, dtype=\"int16\")).astype(np.float64)\n",
    "    return amptitude\n",
    "\n",
    "def cal_rms(amp):\n",
    "    return np.sqrt(np.mean(np.square(amp), axis=-1))\n",
    "\n",
    "def save_waveform(output_path, params, amp):\n",
    "    output_file = wave.Wave_write(output_path)\n",
    "    output_file.setparams(params) #nchannels, sampwidth, framerate, nframes, comptype, compname\n",
    "    output_file.writeframes(array.array('h', amp.astype(np.int16)).tobytes() )\n",
    "    output_file.close()\"\"\""
   ]
  },
  {
   "cell_type": "code",
   "execution_count": 42,
   "id": "5a0cedb4",
   "metadata": {
    "execution": {
     "iopub.execute_input": "2022-06-09T16:09:01.623525Z",
     "iopub.status.busy": "2022-06-09T16:09:01.622786Z",
     "iopub.status.idle": "2022-06-09T16:09:01.625499Z",
     "shell.execute_reply": "2022-06-09T16:09:01.625926Z",
     "shell.execute_reply.started": "2022-05-28T14:05:42.289946Z"
    },
    "papermill": {
     "duration": 0.078722,
     "end_time": "2022-06-09T16:09:01.626077",
     "exception": false,
     "start_time": "2022-06-09T16:09:01.547355",
     "status": "completed"
    },
    "tags": []
   },
   "outputs": [
    {
     "data": {
      "text/plain": [
       "'import argparse\\nimport array\\nimport math\\nimport numpy as np\\nimport random\\nimport wave\\n\\nclass create_mixed_audio_file_16bit():\\n    #args = get_args()\\n\\n    def __init__(self, clean_file, noise_file, snr, mixed_output):\\n        super().__init__()\\n        self.clean_file = clean_file\\n        self.noise_file = noise_file\\n        self.snr = snr\\n        self.mixed_output = mixed_output\\n\\n        clean_wav = wave.open(clean_file, \"r\")\\n        noise_wav = wave.open(noise_file, \"r\")\\n\\n        clean_amp = cal_amp(clean_wav)\\n        noise_amp = cal_amp(noise_wav)\\n\\n        clean_rms = cal_rms(clean_amp)\\n\\n        start = random.randint(0, len(noise_amp)-len(clean_amp))\\n        divided_noise_amp = noise_amp[start: start + len(clean_amp)]\\n        noise_rms = cal_rms(divided_noise_amp)\\n\\n        #snr = args.snr\\n        adjusted_noise_rms = cal_adjusted_rms(clean_rms, snr)\\n\\n        adjusted_noise_amp = divided_noise_amp * (adjusted_noise_rms / noise_rms) \\n        mixed_amp = (clean_amp + adjusted_noise_amp)\\n\\n        #Avoid clipping noise\\n        max_int16 = np.iinfo(np.int16).max\\n        min_int16 = np.iinfo(np.int16).min\\n        if mixed_amp.max(axis=0) > max_int16 or mixed_amp.min(axis=0) < min_int16:\\n            if mixed_amp.max(axis=0) >= abs(mixed_amp.min(axis=0)): \\n                reduction_rate = max_int16 / mixed_amp.max(axis=0)\\n            else :\\n                reduction_rate = min_int16 / mixed_amp.min(axis=0)\\n            mixed_amp = mixed_amp * (reduction_rate)\\n            clean_amp = clean_amp * (reduction_rate)\\n\\n        save_waveform(mixed_output, clean_wav.getparams(), mixed_amp)'"
      ]
     },
     "execution_count": 42,
     "metadata": {},
     "output_type": "execute_result"
    }
   ],
   "source": [
    "# -*- coding: utf-8 -*-\n",
    "\"\"\"import argparse\n",
    "import array\n",
    "import math\n",
    "import numpy as np\n",
    "import random\n",
    "import wave\n",
    "\n",
    "class create_mixed_audio_file_16bit():\n",
    "    #args = get_args()\n",
    "\n",
    "    def __init__(self, clean_file, noise_file, snr, mixed_output):\n",
    "        super().__init__()\n",
    "        self.clean_file = clean_file\n",
    "        self.noise_file = noise_file\n",
    "        self.snr = snr\n",
    "        self.mixed_output = mixed_output\n",
    "\n",
    "        clean_wav = wave.open(clean_file, \"r\")\n",
    "        noise_wav = wave.open(noise_file, \"r\")\n",
    "\n",
    "        clean_amp = cal_amp(clean_wav)\n",
    "        noise_amp = cal_amp(noise_wav)\n",
    "\n",
    "        clean_rms = cal_rms(clean_amp)\n",
    "\n",
    "        start = random.randint(0, len(noise_amp)-len(clean_amp))\n",
    "        divided_noise_amp = noise_amp[start: start + len(clean_amp)]\n",
    "        noise_rms = cal_rms(divided_noise_amp)\n",
    "\n",
    "        #snr = args.snr\n",
    "        adjusted_noise_rms = cal_adjusted_rms(clean_rms, snr)\n",
    "\n",
    "        adjusted_noise_amp = divided_noise_amp * (adjusted_noise_rms / noise_rms) \n",
    "        mixed_amp = (clean_amp + adjusted_noise_amp)\n",
    "\n",
    "        #Avoid clipping noise\n",
    "        max_int16 = np.iinfo(np.int16).max\n",
    "        min_int16 = np.iinfo(np.int16).min\n",
    "        if mixed_amp.max(axis=0) > max_int16 or mixed_amp.min(axis=0) < min_int16:\n",
    "            if mixed_amp.max(axis=0) >= abs(mixed_amp.min(axis=0)): \n",
    "                reduction_rate = max_int16 / mixed_amp.max(axis=0)\n",
    "            else :\n",
    "                reduction_rate = min_int16 / mixed_amp.min(axis=0)\n",
    "            mixed_amp = mixed_amp * (reduction_rate)\n",
    "            clean_amp = clean_amp * (reduction_rate)\n",
    "\n",
    "        save_waveform(mixed_output, clean_wav.getparams(), mixed_amp)\"\"\""
   ]
  },
  {
   "cell_type": "markdown",
   "id": "7d4ae62e",
   "metadata": {
    "papermill": {
     "duration": 0.068908,
     "end_time": "2022-06-09T16:09:01.764259",
     "exception": false,
     "start_time": "2022-06-09T16:09:01.695351",
     "status": "completed"
    },
    "tags": []
   },
   "source": [
    "FOR 16-BIT PCM, 32-BIT PCM, 32-BIT FLOAT, 64-BIT FLOAT"
   ]
  },
  {
   "cell_type": "code",
   "execution_count": 43,
   "id": "f406cdc6",
   "metadata": {
    "execution": {
     "iopub.execute_input": "2022-06-09T16:09:01.909464Z",
     "iopub.status.busy": "2022-06-09T16:09:01.908789Z",
     "iopub.status.idle": "2022-06-09T16:09:01.911454Z",
     "shell.execute_reply": "2022-06-09T16:09:01.911845Z",
     "shell.execute_reply.started": "2022-05-28T14:05:42.339186Z"
    },
    "papermill": {
     "duration": 0.07784,
     "end_time": "2022-06-09T16:09:01.911969",
     "exception": false,
     "start_time": "2022-06-09T16:09:01.834129",
     "status": "completed"
    },
    "tags": []
   },
   "outputs": [
    {
     "data": {
      "text/plain": [
       "'# -*- coding: utf-8 -*-\\nimport argparse\\nimport numpy as np\\nimport random\\nimport soundfile as sf\\nfrom enum import Enum\\n\\n\\nclass EncodingType(Enum):\\n    def __new__(cls, *args, **kwds):\\n        value = len(cls.__members__) + 4\\n        obj = object.__new__(cls)\\n        obj._value_ = value\\n        return obj\\n\\n    def __init__(self, dtype, description, subtype, maximum, minimum):\\n        self.dtype = dtype\\n        self.description = description\\n        self.subtype = subtype\\n        self.maximum = maximum\\n        self.minimum = minimum\\n\\n    # Available subtypes\\n    # See. https://pysoundfile.readthedocs.io/en/latest/#soundfile.available_subtypes\\n    INT16 = (\\n        \"int16\",\\n        \"Signed 16 bit PCM\",\\n        \"PCM_16\",\\n        np.iinfo(np.int16).max,\\n        np.iinfo(np.int16).min,\\n    )\\n    INT32 = (\\n        \"int32\",\\n        \"Signed 32 bit PCM\",\\n        \"PCM_32\",\\n        np.iinfo(np.int32).max,\\n        np.iinfo(np.int32).min,\\n    )\\n    FLOAT32 = (\"float32\", \"32 bit float\", \"FLOAT\", 1, -1)\\n    FLOAT64 = (\"float64\", \"64 bit float\", \"DOUBLE\", 1, -1)'"
      ]
     },
     "execution_count": 43,
     "metadata": {},
     "output_type": "execute_result"
    }
   ],
   "source": [
    "\"\"\"# -*- coding: utf-8 -*-\n",
    "import argparse\n",
    "import numpy as np\n",
    "import random\n",
    "import soundfile as sf\n",
    "from enum import Enum\n",
    "\n",
    "\n",
    "class EncodingType(Enum):\n",
    "    def __new__(cls, *args, **kwds):\n",
    "        value = len(cls.__members__) + 4\n",
    "        obj = object.__new__(cls)\n",
    "        obj._value_ = value\n",
    "        return obj\n",
    "\n",
    "    def __init__(self, dtype, description, subtype, maximum, minimum):\n",
    "        self.dtype = dtype\n",
    "        self.description = description\n",
    "        self.subtype = subtype\n",
    "        self.maximum = maximum\n",
    "        self.minimum = minimum\n",
    "\n",
    "    # Available subtypes\n",
    "    # See. https://pysoundfile.readthedocs.io/en/latest/#soundfile.available_subtypes\n",
    "    INT16 = (\n",
    "        \"int16\",\n",
    "        \"Signed 16 bit PCM\",\n",
    "        \"PCM_16\",\n",
    "        np.iinfo(np.int16).max,\n",
    "        np.iinfo(np.int16).min,\n",
    "    )\n",
    "    INT32 = (\n",
    "        \"int32\",\n",
    "        \"Signed 32 bit PCM\",\n",
    "        \"PCM_32\",\n",
    "        np.iinfo(np.int32).max,\n",
    "        np.iinfo(np.int32).min,\n",
    "    )\n",
    "    FLOAT32 = (\"float32\", \"32 bit float\", \"FLOAT\", 1, -1)\n",
    "    FLOAT64 = (\"float64\", \"64 bit float\", \"DOUBLE\", 1, -1)\"\"\""
   ]
  },
  {
   "cell_type": "code",
   "execution_count": 44,
   "id": "531fe2a1",
   "metadata": {
    "execution": {
     "iopub.execute_input": "2022-06-09T16:09:02.058197Z",
     "iopub.status.busy": "2022-06-09T16:09:02.057445Z",
     "iopub.status.idle": "2022-06-09T16:09:02.060288Z",
     "shell.execute_reply": "2022-06-09T16:09:02.060680Z",
     "shell.execute_reply.started": "2022-05-28T14:05:42.395618Z"
    },
    "papermill": {
     "duration": 0.079606,
     "end_time": "2022-06-09T16:09:02.060800",
     "exception": false,
     "start_time": "2022-06-09T16:09:01.981194",
     "status": "completed"
    },
    "tags": []
   },
   "outputs": [
    {
     "data": {
      "text/plain": [
       "'class create_mixed_audio_file_all_types():\\n\\n    def __init__(self, clean_file, noise_file, snr, mixed_output):\\n        super().__init__()\\n        \\n        #args = get_args()\\n\\n        self.clean_file = clean_file\\n        self.noise_file = noise_file\\n        self.snr = snr\\n        self.mixed_output = mixed_output\\n\\n        metadata = sf.info(clean_file)\\n        for item in EncodingType:\\n            if item.description == metadata.subtype_info:\\n                encoding_type = item\\n\\n        clean_amp, clean_samplerate = sf.read(clean_file, dtype=encoding_type.dtype)\\n        noise_amp, noise_samplerate = sf.read(noise_file, dtype=encoding_type.dtype)\\n\\n        clean_rms = cal_rms(clean_amp)\\n\\n        start = random.randint(0, len(noise_amp) - len(clean_amp))\\n        divided_noise_amp = noise_amp[start : start + len(clean_amp)]\\n        noise_rms = cal_rms(divided_noise_amp)\\n\\n        #snr = args.snr\\n        adjusted_noise_rms = cal_adjusted_rms(clean_rms, snr)\\n\\n        adjusted_noise_amp = divided_noise_amp * (adjusted_noise_rms / noise_rms)\\n        mixed_amp = clean_amp + adjusted_noise_amp\\n\\n        # Avoid clipping noise\\n        max_limit = encoding_type.maximum\\n        min_limit = encoding_type.minimum\\n        if mixed_amp.max(axis=0) > max_limit or mixed_amp.min(axis=0) < min_limit:\\n            if mixed_amp.max(axis=0) >= abs(mixed_amp.min(axis=0)):\\n                reduction_rate = max_limit / mixed_amp.max(axis=0)\\n            else:\\n                reduction_rate = min_limit / mixed_amp.min(axis=0)\\n            mixed_amp = mixed_amp * (reduction_rate)\\n            clean_amp = clean_amp * (reduction_rate)\\n\\n        save_waveform(\\n            mixed_output, mixed_amp, clean_samplerate, encoding_type.subtype\\n        )\\n    \\n #   def get_args():\\n #       parser = argparse.ArgumentParser()\\n #       parser.add_argument(\"--clean_file\", type=str, required=True)\\n #       parser.add_argument(\"--noise_file\", type=str, required=True)\\n #       parser.add_argument(\"--output_mixed_file\", type=str, default=\"\", required=True)\\n #       parser.add_argument(\"--output_clean_file\", type=str, default=\"\")\\n #       parser.add_argument(\"--output_noise_file\", type=str, default=\"\")\\n #       parser.add_argument(\"--snr\", type=float, default=\"\", required=True)\\n #       args = parser.parse_args()\\n #       return args\\n\\n\\n    def cal_adjusted_rms(clean_rms, snr):\\n        a = float(snr) / 20\\n        noise_rms = clean_rms / (10 ** a)\\n        return noise_rms\\n\\n\\n    def cal_rms(amp):\\n        return np.sqrt(np.mean(np.square(amp), axis=-1))\\n\\n\\n    def save_waveform(output_path, amp, samplerate, subtype):\\n        sf.write(output_path, amp, samplerate, format=\"wav\", subtype=subtype)'"
      ]
     },
     "execution_count": 44,
     "metadata": {},
     "output_type": "execute_result"
    }
   ],
   "source": [
    "\"\"\"class create_mixed_audio_file_all_types():\n",
    "\n",
    "    def __init__(self, clean_file, noise_file, snr, mixed_output):\n",
    "        super().__init__()\n",
    "        \n",
    "        #args = get_args()\n",
    "\n",
    "        self.clean_file = clean_file\n",
    "        self.noise_file = noise_file\n",
    "        self.snr = snr\n",
    "        self.mixed_output = mixed_output\n",
    "\n",
    "        metadata = sf.info(clean_file)\n",
    "        for item in EncodingType:\n",
    "            if item.description == metadata.subtype_info:\n",
    "                encoding_type = item\n",
    "\n",
    "        clean_amp, clean_samplerate = sf.read(clean_file, dtype=encoding_type.dtype)\n",
    "        noise_amp, noise_samplerate = sf.read(noise_file, dtype=encoding_type.dtype)\n",
    "\n",
    "        clean_rms = cal_rms(clean_amp)\n",
    "\n",
    "        start = random.randint(0, len(noise_amp) - len(clean_amp))\n",
    "        divided_noise_amp = noise_amp[start : start + len(clean_amp)]\n",
    "        noise_rms = cal_rms(divided_noise_amp)\n",
    "\n",
    "        #snr = args.snr\n",
    "        adjusted_noise_rms = cal_adjusted_rms(clean_rms, snr)\n",
    "\n",
    "        adjusted_noise_amp = divided_noise_amp * (adjusted_noise_rms / noise_rms)\n",
    "        mixed_amp = clean_amp + adjusted_noise_amp\n",
    "\n",
    "        # Avoid clipping noise\n",
    "        max_limit = encoding_type.maximum\n",
    "        min_limit = encoding_type.minimum\n",
    "        if mixed_amp.max(axis=0) > max_limit or mixed_amp.min(axis=0) < min_limit:\n",
    "            if mixed_amp.max(axis=0) >= abs(mixed_amp.min(axis=0)):\n",
    "                reduction_rate = max_limit / mixed_amp.max(axis=0)\n",
    "            else:\n",
    "                reduction_rate = min_limit / mixed_amp.min(axis=0)\n",
    "            mixed_amp = mixed_amp * (reduction_rate)\n",
    "            clean_amp = clean_amp * (reduction_rate)\n",
    "\n",
    "        save_waveform(\n",
    "            mixed_output, mixed_amp, clean_samplerate, encoding_type.subtype\n",
    "        )\n",
    "    \n",
    " #   def get_args():\n",
    " #       parser = argparse.ArgumentParser()\n",
    " #       parser.add_argument(\"--clean_file\", type=str, required=True)\n",
    " #       parser.add_argument(\"--noise_file\", type=str, required=True)\n",
    " #       parser.add_argument(\"--output_mixed_file\", type=str, default=\"\", required=True)\n",
    " #       parser.add_argument(\"--output_clean_file\", type=str, default=\"\")\n",
    " #       parser.add_argument(\"--output_noise_file\", type=str, default=\"\")\n",
    " #       parser.add_argument(\"--snr\", type=float, default=\"\", required=True)\n",
    " #       args = parser.parse_args()\n",
    " #       return args\n",
    "\n",
    "\n",
    "    def cal_adjusted_rms(clean_rms, snr):\n",
    "        a = float(snr) / 20\n",
    "        noise_rms = clean_rms / (10 ** a)\n",
    "        return noise_rms\n",
    "\n",
    "\n",
    "    def cal_rms(amp):\n",
    "        return np.sqrt(np.mean(np.square(amp), axis=-1))\n",
    "\n",
    "\n",
    "    def save_waveform(output_path, amp, samplerate, subtype):\n",
    "        sf.write(output_path, amp, samplerate, format=\"wav\", subtype=subtype)\"\"\""
   ]
  },
  {
   "cell_type": "markdown",
   "id": "d45c0626",
   "metadata": {
    "papermill": {
     "duration": 0.069483,
     "end_time": "2022-06-09T16:09:02.203945",
     "exception": false,
     "start_time": "2022-06-09T16:09:02.134462",
     "status": "completed"
    },
    "tags": []
   },
   "source": [
    "SPECIFY PATH OF CLEAN FILE, NOISE FILE AND OUTPUT DIRECTORY"
   ]
  },
  {
   "cell_type": "code",
   "execution_count": 45,
   "id": "5c96cc8e",
   "metadata": {
    "execution": {
     "iopub.execute_input": "2022-06-09T16:09:02.350331Z",
     "iopub.status.busy": "2022-06-09T16:09:02.349656Z",
     "iopub.status.idle": "2022-06-09T16:09:02.352478Z",
     "shell.execute_reply": "2022-06-09T16:09:02.352868Z",
     "shell.execute_reply.started": "2022-05-28T14:05:42.442408Z"
    },
    "papermill": {
     "duration": 0.078631,
     "end_time": "2022-06-09T16:09:02.353015",
     "exception": false,
     "start_time": "2022-06-09T16:09:02.274384",
     "status": "completed"
    },
    "tags": []
   },
   "outputs": [
    {
     "data": {
      "text/plain": [
       "'clean_file = \"../input/noise-data/mixing data/16_bit/source_clean/arctic_a0001.wav\"\\nnoise_file = \"../input/noise-data/mixing data/16_bit/source_noise/car/car.wav\"\\nsnr = -20\\noutput_mixed = \"./mixed.wav\"\\ncreate_mixed_audio_file_16bit(clean_file, noise_file, snr, output_mixed)'"
      ]
     },
     "execution_count": 45,
     "metadata": {},
     "output_type": "execute_result"
    }
   ],
   "source": [
    "\"\"\"clean_file = \"../input/noise-data/mixing data/16_bit/source_clean/arctic_a0001.wav\"\n",
    "noise_file = \"../input/noise-data/mixing data/16_bit/source_noise/car/car.wav\"\n",
    "snr = -20\n",
    "output_mixed = \"./mixed.wav\"\n",
    "create_mixed_audio_file_16bit(clean_file, noise_file, snr, output_mixed)\"\"\""
   ]
  },
  {
   "cell_type": "code",
   "execution_count": 46,
   "id": "d78ef4ac",
   "metadata": {
    "execution": {
     "iopub.execute_input": "2022-06-09T16:09:02.496654Z",
     "iopub.status.busy": "2022-06-09T16:09:02.495881Z",
     "iopub.status.idle": "2022-06-09T16:09:02.498280Z",
     "shell.execute_reply": "2022-06-09T16:09:02.497823Z",
     "shell.execute_reply.started": "2022-05-28T14:05:42.493435Z"
    },
    "papermill": {
     "duration": 0.074934,
     "end_time": "2022-06-09T16:09:02.498390",
     "exception": false,
     "start_time": "2022-06-09T16:09:02.423456",
     "status": "completed"
    },
    "tags": []
   },
   "outputs": [],
   "source": [
    "#os.remove(\"/kaggle/working/mixed.wav\")"
   ]
  },
  {
   "cell_type": "markdown",
   "id": "bd889c67",
   "metadata": {
    "papermill": {
     "duration": 0.070143,
     "end_time": "2022-06-09T16:09:02.638710",
     "exception": false,
     "start_time": "2022-06-09T16:09:02.568567",
     "status": "completed"
    },
    "tags": []
   },
   "source": [
    "**TEST FOR MANUALLY PRODUCED NOISY SPEECH**"
   ]
  },
  {
   "cell_type": "code",
   "execution_count": 47,
   "id": "8835a4a3",
   "metadata": {
    "execution": {
     "iopub.execute_input": "2022-06-09T16:09:02.783987Z",
     "iopub.status.busy": "2022-06-09T16:09:02.783058Z",
     "iopub.status.idle": "2022-06-09T16:09:02.787115Z",
     "shell.execute_reply": "2022-06-09T16:09:02.786661Z",
     "shell.execute_reply.started": "2022-05-28T14:05:42.61219Z"
    },
    "papermill": {
     "duration": 0.078416,
     "end_time": "2022-06-09T16:09:02.787226",
     "exception": false,
     "start_time": "2022-06-09T16:09:02.708810",
     "status": "completed"
    },
    "tags": []
   },
   "outputs": [
    {
     "data": {
      "text/plain": [
       "\"VALIDATION_NOISY_DIR = Path('../input/validation-mixed-audio/validation from mixed audio/Noisy/car')\\nVALIDATION_CLEAN_DIR = Path('../input/validation-mixed-audio/validation from mixed audio/Clean')\\n\\nvalidation_noisy_files = sorted(list(VALIDATION_NOISY_DIR.rglob('*.wav')))\\nvalidation_clean_files = sorted(list(VALIDATION_CLEAN_DIR.rglob('*.wav')))\\n\\nvalidation_dataset = SpeechDataset(validation_noisy_files, validation_clean_files, N_FFT, HOP_LENGTH)\\n\\nvalidation_loader = DataLoader(validation_dataset, batch_size=2, shuffle=True)\""
      ]
     },
     "execution_count": 47,
     "metadata": {},
     "output_type": "execute_result"
    }
   ],
   "source": [
    "\"\"\"VALIDATION_NOISY_DIR = Path('../input/validation-mixed-audio/validation from mixed audio/Noisy/car')\n",
    "VALIDATION_CLEAN_DIR = Path('../input/validation-mixed-audio/validation from mixed audio/Clean')\n",
    "\n",
    "validation_noisy_files = sorted(list(VALIDATION_NOISY_DIR.rglob('*.wav')))\n",
    "validation_clean_files = sorted(list(VALIDATION_CLEAN_DIR.rglob('*.wav')))\n",
    "\n",
    "validation_dataset = SpeechDataset(validation_noisy_files, validation_clean_files, N_FFT, HOP_LENGTH)\n",
    "\n",
    "validation_loader = DataLoader(validation_dataset, batch_size=2, shuffle=True)\"\"\""
   ]
  },
  {
   "cell_type": "code",
   "execution_count": 48,
   "id": "5e563fa7",
   "metadata": {
    "execution": {
     "iopub.execute_input": "2022-06-09T16:09:02.933429Z",
     "iopub.status.busy": "2022-06-09T16:09:02.932680Z",
     "iopub.status.idle": "2022-06-09T16:09:02.935886Z",
     "shell.execute_reply": "2022-06-09T16:09:02.935387Z",
     "shell.execute_reply.started": "2022-05-28T14:05:42.695112Z"
    },
    "papermill": {
     "duration": 0.078129,
     "end_time": "2022-06-09T16:09:02.935987",
     "exception": false,
     "start_time": "2022-06-09T16:09:02.857858",
     "status": "completed"
    },
    "tags": []
   },
   "outputs": [
    {
     "data": {
      "text/plain": [
       "'custom.eval()\\nx_n, x_c = iter(validation_loader).next()\\nx_est = custom(x_n.cuda(), is_istft=True)'"
      ]
     },
     "execution_count": 48,
     "metadata": {},
     "output_type": "execute_result"
    }
   ],
   "source": [
    "\"\"\"custom.eval()\n",
    "x_n, x_c = iter(validation_loader).next()\n",
    "x_est = custom(x_n.cuda(), is_istft=True)\"\"\""
   ]
  },
  {
   "cell_type": "markdown",
   "id": "47f134b0",
   "metadata": {
    "papermill": {
     "duration": 0.07192,
     "end_time": "2022-06-09T16:09:03.079164",
     "exception": false,
     "start_time": "2022-06-09T16:09:03.007244",
     "status": "completed"
    },
    "tags": []
   },
   "source": [
    "NOISY SPEECH"
   ]
  },
  {
   "cell_type": "code",
   "execution_count": 49,
   "id": "204a5635",
   "metadata": {
    "execution": {
     "iopub.execute_input": "2022-06-09T16:09:03.228751Z",
     "iopub.status.busy": "2022-06-09T16:09:03.228132Z",
     "iopub.status.idle": "2022-06-09T16:09:03.230872Z",
     "shell.execute_reply": "2022-06-09T16:09:03.231286Z",
     "shell.execute_reply.started": "2022-05-28T14:05:42.74929Z"
    },
    "papermill": {
     "duration": 0.080986,
     "end_time": "2022-06-09T16:09:03.231424",
     "exception": false,
     "start_time": "2022-06-09T16:09:03.150438",
     "status": "completed"
    },
    "tags": []
   },
   "outputs": [
    {
     "data": {
      "text/plain": [
       "'x_n = torch.squeeze(x_n, 1)\\nplt.plot(torch.istft(x_n, n_fft=N_FFT, hop_length=HOP_LENGTH, normalized=True).view(-1).detach().cpu().numpy())\\nx_n = torch.istft(x_n, n_fft=N_FFT, hop_length=HOP_LENGTH, normalized=True)'"
      ]
     },
     "execution_count": 49,
     "metadata": {},
     "output_type": "execute_result"
    }
   ],
   "source": [
    "\"\"\"x_n = torch.squeeze(x_n, 1)\n",
    "plt.plot(torch.istft(x_n, n_fft=N_FFT, hop_length=HOP_LENGTH, normalized=True).view(-1).detach().cpu().numpy())\n",
    "x_n = torch.istft(x_n, n_fft=N_FFT, hop_length=HOP_LENGTH, normalized=True)\"\"\""
   ]
  },
  {
   "cell_type": "markdown",
   "id": "0fc0ced8",
   "metadata": {
    "papermill": {
     "duration": 0.070814,
     "end_time": "2022-06-09T16:09:03.373955",
     "exception": false,
     "start_time": "2022-06-09T16:09:03.303141",
     "status": "completed"
    },
    "tags": []
   },
   "source": [
    "CLEAN SPEECH"
   ]
  },
  {
   "cell_type": "code",
   "execution_count": 50,
   "id": "bc7c19f8",
   "metadata": {
    "execution": {
     "iopub.execute_input": "2022-06-09T16:09:03.521351Z",
     "iopub.status.busy": "2022-06-09T16:09:03.520684Z",
     "iopub.status.idle": "2022-06-09T16:09:03.523418Z",
     "shell.execute_reply": "2022-06-09T16:09:03.523819Z",
     "shell.execute_reply.started": "2022-05-28T14:05:42.800036Z"
    },
    "papermill": {
     "duration": 0.078472,
     "end_time": "2022-06-09T16:09:03.523946",
     "exception": false,
     "start_time": "2022-06-09T16:09:03.445474",
     "status": "completed"
    },
    "tags": []
   },
   "outputs": [
    {
     "data": {
      "text/plain": [
       "'x_c = torch.squeeze(x_c, 1)\\nplt.plot(torch.istft(x_c, n_fft=N_FFT, hop_length=HOP_LENGTH, normalized=True).view(-1).detach().cpu().numpy())\\nx_c = torch.istft(x_c, n_fft=N_FFT, hop_length=HOP_LENGTH, normalized=True)'"
      ]
     },
     "execution_count": 50,
     "metadata": {},
     "output_type": "execute_result"
    }
   ],
   "source": [
    "\"\"\"x_c = torch.squeeze(x_c, 1)\n",
    "plt.plot(torch.istft(x_c, n_fft=N_FFT, hop_length=HOP_LENGTH, normalized=True).view(-1).detach().cpu().numpy())\n",
    "x_c = torch.istft(x_c, n_fft=N_FFT, hop_length=HOP_LENGTH, normalized=True)\"\"\""
   ]
  },
  {
   "cell_type": "markdown",
   "id": "16f053d4",
   "metadata": {
    "papermill": {
     "duration": 0.0711,
     "end_time": "2022-06-09T16:09:03.666875",
     "exception": false,
     "start_time": "2022-06-09T16:09:03.595775",
     "status": "completed"
    },
    "tags": []
   },
   "source": [
    "PREDICTED SPEECH"
   ]
  },
  {
   "cell_type": "code",
   "execution_count": 51,
   "id": "1fd7ba2a",
   "metadata": {
    "execution": {
     "iopub.execute_input": "2022-06-09T16:09:03.814145Z",
     "iopub.status.busy": "2022-06-09T16:09:03.813373Z",
     "iopub.status.idle": "2022-06-09T16:09:03.815327Z",
     "shell.execute_reply": "2022-06-09T16:09:03.815757Z",
     "shell.execute_reply.started": "2022-05-28T14:05:42.850607Z"
    },
    "papermill": {
     "duration": 0.077152,
     "end_time": "2022-06-09T16:09:03.815881",
     "exception": false,
     "start_time": "2022-06-09T16:09:03.738729",
     "status": "completed"
    },
    "tags": []
   },
   "outputs": [],
   "source": [
    "#plt.plot(x_est.view(-1).detach().cpu().numpy())"
   ]
  },
  {
   "cell_type": "code",
   "execution_count": 52,
   "id": "9d53fb9a",
   "metadata": {
    "execution": {
     "iopub.execute_input": "2022-06-09T16:09:03.966631Z",
     "iopub.status.busy": "2022-06-09T16:09:03.965816Z",
     "iopub.status.idle": "2022-06-09T16:09:03.969072Z",
     "shell.execute_reply": "2022-06-09T16:09:03.968557Z",
     "shell.execute_reply.started": "2022-05-28T14:05:42.904186Z"
    },
    "papermill": {
     "duration": 0.081689,
     "end_time": "2022-06-09T16:09:03.969176",
     "exception": false,
     "start_time": "2022-06-09T16:09:03.887487",
     "status": "completed"
    },
    "tags": []
   },
   "outputs": [
    {
     "data": {
      "text/plain": [
       "'x_est = torch.unsqueeze(x_est, 1)\\nx_est.size()'"
      ]
     },
     "execution_count": 52,
     "metadata": {},
     "output_type": "execute_result"
    }
   ],
   "source": [
    "\"\"\"x_est = torch.unsqueeze(x_est, 1)\n",
    "x_est.size()\"\"\""
   ]
  },
  {
   "cell_type": "code",
   "execution_count": 53,
   "id": "847e84ee",
   "metadata": {
    "execution": {
     "iopub.execute_input": "2022-06-09T16:09:04.119749Z",
     "iopub.status.busy": "2022-06-09T16:09:04.119144Z",
     "iopub.status.idle": "2022-06-09T16:09:04.121848Z",
     "shell.execute_reply": "2022-06-09T16:09:04.122261Z",
     "shell.execute_reply.started": "2022-05-28T14:05:42.965955Z"
    },
    "papermill": {
     "duration": 0.081002,
     "end_time": "2022-06-09T16:09:04.122396",
     "exception": false,
     "start_time": "2022-06-09T16:09:04.041394",
     "status": "completed"
    },
    "tags": []
   },
   "outputs": [
    {
     "data": {
      "text/plain": [
       "\"np_arr_3 = x_est.detach().cpu().numpy()\\ndata = np_arr_3\\nscaled = np.int16(data/np.max(np.abs(data)) * 32767)\\n#write('car-predicted.wav', 48000, scaled)\""
      ]
     },
     "execution_count": 53,
     "metadata": {},
     "output_type": "execute_result"
    }
   ],
   "source": [
    "\"\"\"np_arr_3 = x_est.detach().cpu().numpy()\n",
    "data = np_arr_3\n",
    "scaled = np.int16(data/np.max(np.abs(data)) * 32767)\n",
    "#write('car-predicted.wav', 48000, scaled)\"\"\""
   ]
  },
  {
   "cell_type": "markdown",
   "id": "b8d231ae",
   "metadata": {
    "papermill": {
     "duration": 0.073166,
     "end_time": "2022-06-09T16:09:04.269891",
     "exception": false,
     "start_time": "2022-06-09T16:09:04.196725",
     "status": "completed"
    },
    "tags": []
   },
   "source": [
    "RESAMPLE FROM 44KHZ (16-BIT PCM) TO 48KHZ"
   ]
  },
  {
   "cell_type": "code",
   "execution_count": 54,
   "id": "be702b0b",
   "metadata": {
    "execution": {
     "iopub.execute_input": "2022-06-09T16:09:04.420613Z",
     "iopub.status.busy": "2022-06-09T16:09:04.419963Z",
     "iopub.status.idle": "2022-06-09T16:09:04.422687Z",
     "shell.execute_reply": "2022-06-09T16:09:04.423119Z",
     "shell.execute_reply.started": "2022-05-28T14:05:43.025003Z"
    },
    "papermill": {
     "duration": 0.079809,
     "end_time": "2022-06-09T16:09:04.423262",
     "exception": false,
     "start_time": "2022-06-09T16:09:04.343453",
     "status": "completed"
    },
    "tags": []
   },
   "outputs": [
    {
     "data": {
      "text/plain": [
       "\"#pip install librosa\\nimport librosa    \\ny, s = librosa.load('./car-predicted.wav', sr=48000)\""
      ]
     },
     "execution_count": 54,
     "metadata": {},
     "output_type": "execute_result"
    }
   ],
   "source": [
    "\"\"\"#pip install librosa\n",
    "import librosa    \n",
    "y, s = librosa.load('./car-predicted.wav', sr=48000)\"\"\""
   ]
  },
  {
   "cell_type": "code",
   "execution_count": 55,
   "id": "5aa031ae",
   "metadata": {
    "execution": {
     "iopub.execute_input": "2022-06-09T16:09:04.572422Z",
     "iopub.status.busy": "2022-06-09T16:09:04.571807Z",
     "iopub.status.idle": "2022-06-09T16:09:04.574458Z",
     "shell.execute_reply": "2022-06-09T16:09:04.574850Z",
     "shell.execute_reply.started": "2022-05-28T14:05:43.081141Z"
    },
    "papermill": {
     "duration": 0.079335,
     "end_time": "2022-06-09T16:09:04.574980",
     "exception": false,
     "start_time": "2022-06-09T16:09:04.495645",
     "status": "completed"
    },
    "tags": []
   },
   "outputs": [
    {
     "data": {
      "text/plain": [
       "'y = y[np.newaxis]\\ny = y[np.newaxis]'"
      ]
     },
     "execution_count": 55,
     "metadata": {},
     "output_type": "execute_result"
    }
   ],
   "source": [
    "\"\"\"y = y[np.newaxis]\n",
    "y = y[np.newaxis]\"\"\""
   ]
  },
  {
   "cell_type": "code",
   "execution_count": 56,
   "id": "55db865b",
   "metadata": {
    "execution": {
     "iopub.execute_input": "2022-06-09T16:09:04.725952Z",
     "iopub.status.busy": "2022-06-09T16:09:04.725384Z",
     "iopub.status.idle": "2022-06-09T16:09:04.728014Z",
     "shell.execute_reply": "2022-06-09T16:09:04.728442Z",
     "shell.execute_reply.started": "2022-05-28T14:05:43.13845Z"
    },
    "papermill": {
     "duration": 0.080362,
     "end_time": "2022-06-09T16:09:04.728572",
     "exception": false,
     "start_time": "2022-06-09T16:09:04.648210",
     "status": "completed"
    },
    "tags": []
   },
   "outputs": [
    {
     "data": {
      "text/plain": [
       "'print(y)\\nprint(y.ndim)'"
      ]
     },
     "execution_count": 56,
     "metadata": {},
     "output_type": "execute_result"
    }
   ],
   "source": [
    "\"\"\"print(y)\n",
    "print(y.ndim)\"\"\""
   ]
  },
  {
   "cell_type": "code",
   "execution_count": 57,
   "id": "273b7b44",
   "metadata": {
    "execution": {
     "iopub.execute_input": "2022-06-09T16:09:04.878944Z",
     "iopub.status.busy": "2022-06-09T16:09:04.878072Z",
     "iopub.status.idle": "2022-06-09T16:09:04.883359Z",
     "shell.execute_reply": "2022-06-09T16:09:04.882922Z",
     "shell.execute_reply.started": "2022-05-28T14:05:43.187033Z"
    },
    "papermill": {
     "duration": 0.079776,
     "end_time": "2022-06-09T16:09:04.883470",
     "exception": false,
     "start_time": "2022-06-09T16:09:04.803694",
     "status": "completed"
    },
    "tags": []
   },
   "outputs": [
    {
     "data": {
      "text/plain": [
       "\"data = y\\nscaled = np.int16(data/np.max(np.abs(data)) * 32767)\\nwrite('car-predicted_48k.wav', 48000, scaled)\""
      ]
     },
     "execution_count": 57,
     "metadata": {},
     "output_type": "execute_result"
    }
   ],
   "source": [
    "\"\"\"data = y\n",
    "scaled = np.int16(data/np.max(np.abs(data)) * 32767)\n",
    "write('car-predicted_48k.wav', 48000, scaled)\"\"\""
   ]
  }
 ],
 "metadata": {
  "kernelspec": {
   "display_name": "Python 3",
   "language": "python",
   "name": "python3"
  },
  "language_info": {
   "codemirror_mode": {
    "name": "ipython",
    "version": 3
   },
   "file_extension": ".py",
   "mimetype": "text/x-python",
   "name": "python",
   "nbconvert_exporter": "python",
   "pygments_lexer": "ipython3",
   "version": "3.7.12"
  },
  "papermill": {
   "default_parameters": {},
   "duration": 33.995176,
   "end_time": "2022-06-09T16:09:06.480078",
   "environment_variables": {},
   "exception": null,
   "input_path": "__notebook__.ipynb",
   "output_path": "__notebook__.ipynb",
   "parameters": {},
   "start_time": "2022-06-09T16:08:32.484902",
   "version": "2.3.3"
  }
 },
 "nbformat": 4,
 "nbformat_minor": 5
}
